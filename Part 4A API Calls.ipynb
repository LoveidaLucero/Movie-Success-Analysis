{
 "cells": [
  {
   "cell_type": "markdown",
   "id": "b1a41427-51ed-4f19-b2df-a0554cc15f7d",
   "metadata": {},
   "source": [
    "# Part 4 Hypothesis Testing\n",
    "-Loveida Lucero"
   ]
  },
  {
   "cell_type": "markdown",
   "id": "1b4c06c9-3a35-4f00-9fb4-93355a7fc82b",
   "metadata": {},
   "source": [
    "**Imports**"
   ]
  },
  {
   "cell_type": "code",
   "execution_count": 1,
   "id": "3ce4a84d-360d-4141-88e0-91d517bba775",
   "metadata": {},
   "outputs": [],
   "source": [
    "# Import packages\n",
    "import pandas as pd\n",
    "import matplotlib.pyplot as plt\n",
    "import seaborn as sns\n",
    "import os, json, time\n",
    "from tqdm.notebook import tqdm_notebook\n",
    "import tmdbsimple as tmdb"
   ]
  },
  {
   "cell_type": "markdown",
   "id": "4e131f1a-5d76-440c-bf5c-989ceccef2a2",
   "metadata": {},
   "source": [
    "# Load TMDB API Key and add to tmdbsimple"
   ]
  },
  {
   "cell_type": "code",
   "execution_count": 2,
   "id": "7ae5675d-ae71-4b11-87a1-3629088d3a1d",
   "metadata": {},
   "outputs": [
    {
     "data": {
      "text/plain": [
       "dict_keys(['api-key'])"
      ]
     },
     "execution_count": 2,
     "metadata": {},
     "output_type": "execute_result"
    }
   ],
   "source": [
    "with open('/Users/Lovei/.secret/tmdb_api.json', 'r') as f:\n",
    "    login = json.load(f)\n",
    "## Display the keys of the loaded dict\n",
    "login.keys()"
   ]
  },
  {
   "cell_type": "code",
   "execution_count": 3,
   "id": "dbfbcefd-787e-4c36-93f7-d5f95b21acca",
   "metadata": {},
   "outputs": [],
   "source": [
    "# Setting the API_KEY\n",
    "tmdb.API_KEY =  login['api-key']"
   ]
  },
  {
   "cell_type": "markdown",
   "id": "01bbd1e0-0a7a-42d4-b3e2-2f0021d0405b",
   "metadata": {},
   "source": [
    "# Define Functions"
   ]
  },
  {
   "cell_type": "code",
   "execution_count": 4,
   "id": "ef1741be-787e-47db-8e66-9d7a2651d673",
   "metadata": {},
   "outputs": [],
   "source": [
    "def write_json(new_data, filename): \n",
    "    \"\"\"Appends a list of records (new_data) to a json file (filename). \n",
    "    Adapted from: https://www.geeksforgeeks.org/append-to-json-file-using-python/\"\"\"  \n",
    "    \n",
    "    with open(filename,'r+') as file:\n",
    "        # First we load existing data into a dict.\n",
    "        file_data = json.load(file)\n",
    "        ## Choose extend or append\n",
    "        if (type(new_data) == list) & (type(file_data) == list):\n",
    "            file_data.extend(new_data)\n",
    "        else:\n",
    "             file_data.append(new_data)\n",
    "        # Sets file's current position at offset.\n",
    "        file.seek(0)\n",
    "        # convert back to json.\n",
    "        json.dump(file_data, file)\n",
    "\n",
    "def get_movie_with_rating(movie_id):\n",
    "    # Get the movie object for the current id\n",
    "    movie = tmdb.Movies(movie_id)\n",
    "    \n",
    "    # save the .info .releases dictionaries\n",
    "    movie_info = movie.info()\n",
    "    releases = movie.releases()\n",
    "    \n",
    "    # Loop through countries in releases\n",
    "    for c in releases['countries']:\n",
    "        # if the country abbreviation==US\n",
    "        if c['iso_3166_1' ] =='US':\n",
    "            ## save a \"certification\" key in the info dict with the certification\n",
    "            movie_info['certification'] = c['certification']\n",
    "    return movie_info"
   ]
  },
  {
   "cell_type": "code",
   "execution_count": 5,
   "id": "47831c40-d167-44cb-9b03-b78f2cece0f5",
   "metadata": {},
   "outputs": [
    {
     "data": {
      "text/html": [
       "<div>\n",
       "<style scoped>\n",
       "    .dataframe tbody tr th:only-of-type {\n",
       "        vertical-align: middle;\n",
       "    }\n",
       "\n",
       "    .dataframe tbody tr th {\n",
       "        vertical-align: top;\n",
       "    }\n",
       "\n",
       "    .dataframe thead th {\n",
       "        text-align: right;\n",
       "    }\n",
       "</style>\n",
       "<table border=\"1\" class=\"dataframe\">\n",
       "  <thead>\n",
       "    <tr style=\"text-align: right;\">\n",
       "      <th></th>\n",
       "      <th>tconst</th>\n",
       "      <th>titleType</th>\n",
       "      <th>primaryTitle</th>\n",
       "      <th>originalTitle</th>\n",
       "      <th>isAdult</th>\n",
       "      <th>startYear</th>\n",
       "      <th>endYear</th>\n",
       "      <th>runtimeMinutes</th>\n",
       "      <th>genres</th>\n",
       "    </tr>\n",
       "  </thead>\n",
       "  <tbody>\n",
       "    <tr>\n",
       "      <th>0</th>\n",
       "      <td>tt0035423</td>\n",
       "      <td>movie</td>\n",
       "      <td>Kate &amp; Leopold</td>\n",
       "      <td>Kate &amp; Leopold</td>\n",
       "      <td>0</td>\n",
       "      <td>2001.0</td>\n",
       "      <td>NaN</td>\n",
       "      <td>118</td>\n",
       "      <td>Comedy,Fantasy,Romance</td>\n",
       "    </tr>\n",
       "    <tr>\n",
       "      <th>1</th>\n",
       "      <td>tt0062336</td>\n",
       "      <td>movie</td>\n",
       "      <td>The Tango of the Widower and Its Distorting Mi...</td>\n",
       "      <td>El tango del viudo y su espejo deformante</td>\n",
       "      <td>0</td>\n",
       "      <td>2020.0</td>\n",
       "      <td>NaN</td>\n",
       "      <td>70</td>\n",
       "      <td>Drama</td>\n",
       "    </tr>\n",
       "    <tr>\n",
       "      <th>2</th>\n",
       "      <td>tt0069049</td>\n",
       "      <td>movie</td>\n",
       "      <td>The Other Side of the Wind</td>\n",
       "      <td>The Other Side of the Wind</td>\n",
       "      <td>0</td>\n",
       "      <td>2018.0</td>\n",
       "      <td>NaN</td>\n",
       "      <td>122</td>\n",
       "      <td>Drama</td>\n",
       "    </tr>\n",
       "    <tr>\n",
       "      <th>3</th>\n",
       "      <td>tt0088751</td>\n",
       "      <td>movie</td>\n",
       "      <td>The Naked Monster</td>\n",
       "      <td>The Naked Monster</td>\n",
       "      <td>0</td>\n",
       "      <td>2005.0</td>\n",
       "      <td>NaN</td>\n",
       "      <td>100</td>\n",
       "      <td>Comedy,Horror,Sci-Fi</td>\n",
       "    </tr>\n",
       "    <tr>\n",
       "      <th>4</th>\n",
       "      <td>tt0096056</td>\n",
       "      <td>movie</td>\n",
       "      <td>Crime and Punishment</td>\n",
       "      <td>Crime and Punishment</td>\n",
       "      <td>0</td>\n",
       "      <td>2002.0</td>\n",
       "      <td>NaN</td>\n",
       "      <td>126</td>\n",
       "      <td>Drama</td>\n",
       "    </tr>\n",
       "    <tr>\n",
       "      <th>...</th>\n",
       "      <td>...</td>\n",
       "      <td>...</td>\n",
       "      <td>...</td>\n",
       "      <td>...</td>\n",
       "      <td>...</td>\n",
       "      <td>...</td>\n",
       "      <td>...</td>\n",
       "      <td>...</td>\n",
       "      <td>...</td>\n",
       "    </tr>\n",
       "    <tr>\n",
       "      <th>86974</th>\n",
       "      <td>tt9914942</td>\n",
       "      <td>movie</td>\n",
       "      <td>Life Without Sara Amat</td>\n",
       "      <td>La vida sense la Sara Amat</td>\n",
       "      <td>0</td>\n",
       "      <td>2019.0</td>\n",
       "      <td>NaN</td>\n",
       "      <td>74</td>\n",
       "      <td>Drama</td>\n",
       "    </tr>\n",
       "    <tr>\n",
       "      <th>86975</th>\n",
       "      <td>tt9915872</td>\n",
       "      <td>movie</td>\n",
       "      <td>The Last White Witch</td>\n",
       "      <td>My Girlfriend is a Wizard</td>\n",
       "      <td>0</td>\n",
       "      <td>2019.0</td>\n",
       "      <td>NaN</td>\n",
       "      <td>97</td>\n",
       "      <td>Comedy,Drama,Fantasy</td>\n",
       "    </tr>\n",
       "    <tr>\n",
       "      <th>86976</th>\n",
       "      <td>tt9916170</td>\n",
       "      <td>movie</td>\n",
       "      <td>The Rehearsal</td>\n",
       "      <td>O Ensaio</td>\n",
       "      <td>0</td>\n",
       "      <td>2019.0</td>\n",
       "      <td>NaN</td>\n",
       "      <td>51</td>\n",
       "      <td>Drama</td>\n",
       "    </tr>\n",
       "    <tr>\n",
       "      <th>86977</th>\n",
       "      <td>tt9916190</td>\n",
       "      <td>movie</td>\n",
       "      <td>Safeguard</td>\n",
       "      <td>Safeguard</td>\n",
       "      <td>0</td>\n",
       "      <td>2020.0</td>\n",
       "      <td>NaN</td>\n",
       "      <td>95</td>\n",
       "      <td>Action,Adventure,Thriller</td>\n",
       "    </tr>\n",
       "    <tr>\n",
       "      <th>86978</th>\n",
       "      <td>tt9916362</td>\n",
       "      <td>movie</td>\n",
       "      <td>Coven</td>\n",
       "      <td>Akelarre</td>\n",
       "      <td>0</td>\n",
       "      <td>2020.0</td>\n",
       "      <td>NaN</td>\n",
       "      <td>92</td>\n",
       "      <td>Drama,History</td>\n",
       "    </tr>\n",
       "  </tbody>\n",
       "</table>\n",
       "<p>86979 rows × 9 columns</p>\n",
       "</div>"
      ],
      "text/plain": [
       "          tconst titleType                                       primaryTitle  \\\n",
       "0      tt0035423     movie                                     Kate & Leopold   \n",
       "1      tt0062336     movie  The Tango of the Widower and Its Distorting Mi...   \n",
       "2      tt0069049     movie                         The Other Side of the Wind   \n",
       "3      tt0088751     movie                                  The Naked Monster   \n",
       "4      tt0096056     movie                               Crime and Punishment   \n",
       "...          ...       ...                                                ...   \n",
       "86974  tt9914942     movie                             Life Without Sara Amat   \n",
       "86975  tt9915872     movie                               The Last White Witch   \n",
       "86976  tt9916170     movie                                      The Rehearsal   \n",
       "86977  tt9916190     movie                                          Safeguard   \n",
       "86978  tt9916362     movie                                              Coven   \n",
       "\n",
       "                                   originalTitle  isAdult  startYear  endYear  \\\n",
       "0                                 Kate & Leopold        0     2001.0      NaN   \n",
       "1      El tango del viudo y su espejo deformante        0     2020.0      NaN   \n",
       "2                     The Other Side of the Wind        0     2018.0      NaN   \n",
       "3                              The Naked Monster        0     2005.0      NaN   \n",
       "4                           Crime and Punishment        0     2002.0      NaN   \n",
       "...                                          ...      ...        ...      ...   \n",
       "86974                 La vida sense la Sara Amat        0     2019.0      NaN   \n",
       "86975                  My Girlfriend is a Wizard        0     2019.0      NaN   \n",
       "86976                                   O Ensaio        0     2019.0      NaN   \n",
       "86977                                  Safeguard        0     2020.0      NaN   \n",
       "86978                                   Akelarre        0     2020.0      NaN   \n",
       "\n",
       "       runtimeMinutes                     genres  \n",
       "0                 118     Comedy,Fantasy,Romance  \n",
       "1                  70                      Drama  \n",
       "2                 122                      Drama  \n",
       "3                 100       Comedy,Horror,Sci-Fi  \n",
       "4                 126                      Drama  \n",
       "...               ...                        ...  \n",
       "86974              74                      Drama  \n",
       "86975              97       Comedy,Drama,Fantasy  \n",
       "86976              51                      Drama  \n",
       "86977              95  Action,Adventure,Thriller  \n",
       "86978              92              Drama,History  \n",
       "\n",
       "[86979 rows x 9 columns]"
      ]
     },
     "execution_count": 5,
     "metadata": {},
     "output_type": "execute_result"
    }
   ],
   "source": [
    "# Load in the dataframe from project part 1 as basics:\n",
    "basics = pd.read_csv('Data/basics.csv')\n",
    "basics"
   ]
  },
  {
   "cell_type": "markdown",
   "id": "604e9a22-a570-42e7-9bbd-5a6084ae6a02",
   "metadata": {},
   "source": [
    "# TMDB API Calls"
   ]
  },
  {
   "cell_type": "markdown",
   "id": "c4154e55-56ce-4569-9e34-188a98fe2927",
   "metadata": {},
   "source": [
    "## 2000-2013"
   ]
  },
  {
   "cell_type": "code",
   "execution_count": 6,
   "id": "5bedb82a-231a-4f0c-8d06-97b67a7b161c",
   "metadata": {},
   "outputs": [],
   "source": [
    "# define error list\n",
    "errors = [ ]"
   ]
  },
  {
   "cell_type": "code",
   "execution_count": 7,
   "id": "03498eb7-1408-496e-8ac7-e2b1e2bfd2b7",
   "metadata": {},
   "outputs": [],
   "source": [
    "YEARS_TO_GET = [2000,2003,2004,2005,2006,2007,2008,2009,2011,2012,2013]"
   ]
  },
  {
   "cell_type": "code",
   "execution_count": 8,
   "id": "6a03f8db-5a29-405b-9871-37ee60029a8e",
   "metadata": {},
   "outputs": [
    {
     "data": {
      "application/vnd.jupyter.widget-view+json": {
       "model_id": "923cd6062895415eaec024b513fb072c",
       "version_major": 2,
       "version_minor": 0
      },
      "text/plain": [
       "YEARS:   0%|          | 0/11 [00:00<?, ?it/s]"
      ]
     },
     "metadata": {},
     "output_type": "display_data"
    },
    {
     "name": "stdout",
     "output_type": "stream",
     "text": [
      "Creating Data/tmdb_api_results_2000.json for API results for 2000.\n"
     ]
    },
    {
     "data": {
      "application/vnd.jupyter.widget-view+json": {
       "model_id": "58c1e882d3f74cbfa43623890441acba",
       "version_major": 2,
       "version_minor": 0
      },
      "text/plain": [
       "Movies from 2000:   0%|          | 0/1457 [00:00<?, ?it/s]"
      ]
     },
     "metadata": {},
     "output_type": "display_data"
    },
    {
     "name": "stdout",
     "output_type": "stream",
     "text": [
      "- Total errors: 201\n",
      "Creating Data/tmdb_api_results_2003.json for API results for 2003.\n"
     ]
    },
    {
     "data": {
      "application/vnd.jupyter.widget-view+json": {
       "model_id": "da405f0eb5e54dde9d1e72289c5dc1c7",
       "version_major": 2,
       "version_minor": 0
      },
      "text/plain": [
       "Movies from 2003:   0%|          | 0/1687 [00:00<?, ?it/s]"
      ]
     },
     "metadata": {},
     "output_type": "display_data"
    },
    {
     "name": "stdout",
     "output_type": "stream",
     "text": [
      "- Total errors: 542\n",
      "Creating Data/tmdb_api_results_2004.json for API results for 2004.\n"
     ]
    },
    {
     "data": {
      "application/vnd.jupyter.widget-view+json": {
       "model_id": "984d219ff5b0409495c63abd48fa2343",
       "version_major": 2,
       "version_minor": 0
      },
      "text/plain": [
       "Movies from 2004:   0%|          | 0/1904 [00:00<?, ?it/s]"
      ]
     },
     "metadata": {},
     "output_type": "display_data"
    },
    {
     "name": "stdout",
     "output_type": "stream",
     "text": [
      "- Total errors: 940\n",
      "Creating Data/tmdb_api_results_2005.json for API results for 2005.\n"
     ]
    },
    {
     "data": {
      "application/vnd.jupyter.widget-view+json": {
       "model_id": "a352a2c545f5485184ec085187105a64",
       "version_major": 2,
       "version_minor": 0
      },
      "text/plain": [
       "Movies from 2005:   0%|          | 0/2185 [00:00<?, ?it/s]"
      ]
     },
     "metadata": {},
     "output_type": "display_data"
    },
    {
     "name": "stdout",
     "output_type": "stream",
     "text": [
      "- Total errors: 1442\n",
      "Creating Data/tmdb_api_results_2006.json for API results for 2006.\n"
     ]
    },
    {
     "data": {
      "application/vnd.jupyter.widget-view+json": {
       "model_id": "11c2ecbb5ba6472e8e125f1e7a6ff047",
       "version_major": 2,
       "version_minor": 0
      },
      "text/plain": [
       "Movies from 2006:   0%|          | 0/2440 [00:00<?, ?it/s]"
      ]
     },
     "metadata": {},
     "output_type": "display_data"
    },
    {
     "name": "stdout",
     "output_type": "stream",
     "text": [
      "- Total errors: 1964\n",
      "Creating Data/tmdb_api_results_2007.json for API results for 2007.\n"
     ]
    },
    {
     "data": {
      "application/vnd.jupyter.widget-view+json": {
       "model_id": "495f0ee6c9c34326a5b396acd9b6ff32",
       "version_major": 2,
       "version_minor": 0
      },
      "text/plain": [
       "Movies from 2007:   0%|          | 0/2579 [00:00<?, ?it/s]"
      ]
     },
     "metadata": {},
     "output_type": "display_data"
    },
    {
     "name": "stdout",
     "output_type": "stream",
     "text": [
      "- Total errors: 2599\n",
      "Creating Data/tmdb_api_results_2008.json for API results for 2008.\n"
     ]
    },
    {
     "data": {
      "application/vnd.jupyter.widget-view+json": {
       "model_id": "291ed4a63c1446d59148ca6856d11e87",
       "version_major": 2,
       "version_minor": 0
      },
      "text/plain": [
       "Movies from 2008:   0%|          | 0/2912 [00:00<?, ?it/s]"
      ]
     },
     "metadata": {},
     "output_type": "display_data"
    },
    {
     "name": "stdout",
     "output_type": "stream",
     "text": [
      "- Total errors: 3325\n",
      "Creating Data/tmdb_api_results_2009.json for API results for 2009.\n"
     ]
    },
    {
     "data": {
      "application/vnd.jupyter.widget-view+json": {
       "model_id": "a7bda592de7543438bd3d571802103d1",
       "version_major": 2,
       "version_minor": 0
      },
      "text/plain": [
       "Movies from 2009:   0%|          | 0/3560 [00:00<?, ?it/s]"
      ]
     },
     "metadata": {},
     "output_type": "display_data"
    },
    {
     "name": "stdout",
     "output_type": "stream",
     "text": [
      "- Total errors: 4380\n",
      "Creating Data/tmdb_api_results_2011.json for API results for 2011.\n"
     ]
    },
    {
     "data": {
      "application/vnd.jupyter.widget-view+json": {
       "model_id": "988187b7f31c46e28e3999cec70352a3",
       "version_major": 2,
       "version_minor": 0
      },
      "text/plain": [
       "Movies from 2011:   0%|          | 0/4229 [00:00<?, ?it/s]"
      ]
     },
     "metadata": {},
     "output_type": "display_data"
    },
    {
     "name": "stdout",
     "output_type": "stream",
     "text": [
      "- Total errors: 5577\n",
      "Creating Data/tmdb_api_results_2012.json for API results for 2012.\n"
     ]
    },
    {
     "data": {
      "application/vnd.jupyter.widget-view+json": {
       "model_id": "afbea274b484459a8ade35413e5a1cd0",
       "version_major": 2,
       "version_minor": 0
      },
      "text/plain": [
       "Movies from 2012:   0%|          | 0/4522 [00:00<?, ?it/s]"
      ]
     },
     "metadata": {},
     "output_type": "display_data"
    },
    {
     "name": "stdout",
     "output_type": "stream",
     "text": [
      "- Total errors: 7598\n",
      "Creating Data/tmdb_api_results_2013.json for API results for 2013.\n"
     ]
    },
    {
     "data": {
      "application/vnd.jupyter.widget-view+json": {
       "model_id": "187916a03b384846837815263bbc6a5a",
       "version_major": 2,
       "version_minor": 0
      },
      "text/plain": [
       "Movies from 2013:   0%|          | 0/4714 [00:00<?, ?it/s]"
      ]
     },
     "metadata": {},
     "output_type": "display_data"
    },
    {
     "name": "stdout",
     "output_type": "stream",
     "text": [
      "- Total errors: 12312\n"
     ]
    }
   ],
   "source": [
    "# start ot outer loop\n",
    "for YEAR in tqdm_notebook(YEARS_TO_GET,desc='YEARS',position=0):\n",
    "\n",
    "    # Create the folder for saving files (if it doesn't exist)\n",
    "    FOLDER = \"Data/\"\n",
    "    os.makedirs(FOLDER, exist_ok=True)\n",
    "   \n",
    "    #Defining the JSON file to store results for year\n",
    "    JSON_FILE = f'{FOLDER}tmdb_api_results_{YEAR}.json'\n",
    "    # Check if the JSON file exists\n",
    "    file_exists = os.path.isfile(JSON_FILE)\n",
    "    # If it does not exist: create it\n",
    "    if file_exists == False:\n",
    "        # Print a message indicating the file is being created \n",
    "        print(f\"Creating {JSON_FILE} for API results for {YEAR}.\")\n",
    "        # save an empty dict with just \"imdb_id\" to the new json file.\n",
    "        with open(JSON_FILE,'w') as f:\n",
    "            json.dump([{'imdb_id':0}],f)\n",
    "    # If it exists, print a message\n",
    "    else:\n",
    "        print(f'The file {JSON_FILE} already exists.')   \n",
    "   \n",
    "    # Filtering for movies from selected startYears\n",
    "    df = basics.loc[ basics['startYear']==YEAR].copy()\n",
    "    # saving movie ids to list\n",
    "    movie_ids = df['tconst']\n",
    "    movie_ids.head()\n",
    "\n",
    "    # Load existing data from json into a dataframe called \"previous_df\"\n",
    "    previous_df = pd.read_json(JSON_FILE)\n",
    "    previous_df\n",
    "\n",
    "    # filter out any ids that are already in the JSON_FILE\n",
    "    movie_ids_to_get = movie_ids[~movie_ids.isin(previous_df['imdb_id'])]\n",
    "\n",
    "    # Loop through movie_ids_to_get with a tqdm progress bar\n",
    "    for movie_id in tqdm_notebook(movie_ids_to_get, f\"Movies from {YEAR}\"):\n",
    "        # Attempt to retrieve then data for the movie id\n",
    "        try:\n",
    "            temp = get_movie_with_rating(movie_id)  #This uses your pre-made function\n",
    "            # Append/extend results to existing file using a pre-made function\n",
    "            write_json(temp,JSON_FILE)\n",
    "            # Short 20 ms sleep to prevent overwhelming server\n",
    "            time.sleep(0.02)\n",
    "        # If it fails,  make a dict with just the id and None for certification.\n",
    "        except Exception as e:\n",
    "            errors.append([movie_id, e])\n",
    "\n",
    "    final_year_df = pd.read_json(JSON_FILE)\n",
    "    final_year_df.to_csv(f\"{FOLDER}final_tmdb_data_{YEAR}.csv.gz\", compression=\"gzip\", index=False)\n",
    "\n",
    "    # print number of movies that caused error\n",
    "    print(f\"- Total errors: {len(errors)}\")"
   ]
  },
  {
   "cell_type": "markdown",
   "id": "7da35f7b-5250-4911-84db-cd59fc9ef733",
   "metadata": {},
   "source": [
    "# 2014-2022"
   ]
  },
  {
   "cell_type": "code",
   "execution_count": 9,
   "id": "fa49a03c-8dbd-4ce2-9652-a3a57d146f3c",
   "metadata": {},
   "outputs": [],
   "source": [
    "# define error list\n",
    "errors = [ ]"
   ]
  },
  {
   "cell_type": "code",
   "execution_count": 10,
   "id": "104e215a-6921-4079-b596-659d4ef51b33",
   "metadata": {},
   "outputs": [],
   "source": [
    "YEARS_TO_GET2 = [2014,2015,2016,2017,2018,2019,2020,2021,2022]"
   ]
  },
  {
   "cell_type": "code",
   "execution_count": 11,
   "id": "d28d193e-68b2-42da-a0ab-d9456e728166",
   "metadata": {},
   "outputs": [
    {
     "data": {
      "application/vnd.jupyter.widget-view+json": {
       "model_id": "2928ca13510d4bf9a80e7aa859eb686e",
       "version_major": 2,
       "version_minor": 0
      },
      "text/plain": [
       "YEARS:   0%|          | 0/9 [00:00<?, ?it/s]"
      ]
     },
     "metadata": {},
     "output_type": "display_data"
    },
    {
     "name": "stdout",
     "output_type": "stream",
     "text": [
      "Creating Data/tmdb_api_results_2014.json for API results for 2014.\n"
     ]
    },
    {
     "data": {
      "application/vnd.jupyter.widget-view+json": {
       "model_id": "8866591a418d4e7ca66bdee21b30c5cf",
       "version_major": 2,
       "version_minor": 0
      },
      "text/plain": [
       "Movies from 2014:   0%|          | 0/4917 [00:00<?, ?it/s]"
      ]
     },
     "metadata": {},
     "output_type": "display_data"
    },
    {
     "name": "stdout",
     "output_type": "stream",
     "text": [
      "- Total errors: 1143\n",
      "Creating Data/tmdb_api_results_2015.json for API results for 2015.\n"
     ]
    },
    {
     "data": {
      "application/vnd.jupyter.widget-view+json": {
       "model_id": "709e9fdc954d44d3bbb07b66a3727925",
       "version_major": 2,
       "version_minor": 0
      },
      "text/plain": [
       "Movies from 2015:   0%|          | 0/5056 [00:00<?, ?it/s]"
      ]
     },
     "metadata": {},
     "output_type": "display_data"
    },
    {
     "name": "stdout",
     "output_type": "stream",
     "text": [
      "- Total errors: 2349\n",
      "Creating Data/tmdb_api_results_2016.json for API results for 2016.\n"
     ]
    },
    {
     "data": {
      "application/vnd.jupyter.widget-view+json": {
       "model_id": "135ad70aa33e43049ff3697ea9274dad",
       "version_major": 2,
       "version_minor": 0
      },
      "text/plain": [
       "Movies from 2016:   0%|          | 0/5256 [00:00<?, ?it/s]"
      ]
     },
     "metadata": {},
     "output_type": "display_data"
    },
    {
     "name": "stdout",
     "output_type": "stream",
     "text": [
      "- Total errors: 3516\n",
      "Creating Data/tmdb_api_results_2017.json for API results for 2017.\n"
     ]
    },
    {
     "data": {
      "application/vnd.jupyter.widget-view+json": {
       "model_id": "bda85c98932e4ccbbe737429b566185d",
       "version_major": 2,
       "version_minor": 0
      },
      "text/plain": [
       "Movies from 2017:   0%|          | 0/5643 [00:00<?, ?it/s]"
      ]
     },
     "metadata": {},
     "output_type": "display_data"
    },
    {
     "name": "stdout",
     "output_type": "stream",
     "text": [
      "- Total errors: 4693\n",
      "Creating Data/tmdb_api_results_2018.json for API results for 2018.\n"
     ]
    },
    {
     "data": {
      "application/vnd.jupyter.widget-view+json": {
       "model_id": "778995cde20e41fc83e96a3f5587ab1c",
       "version_major": 2,
       "version_minor": 0
      },
      "text/plain": [
       "Movies from 2018:   0%|          | 0/5785 [00:00<?, ?it/s]"
      ]
     },
     "metadata": {},
     "output_type": "display_data"
    },
    {
     "name": "stdout",
     "output_type": "stream",
     "text": [
      "- Total errors: 5781\n",
      "Creating Data/tmdb_api_results_2019.json for API results for 2019.\n"
     ]
    },
    {
     "data": {
      "application/vnd.jupyter.widget-view+json": {
       "model_id": "0a464bb9c30244d492f74996cb6d6e2e",
       "version_major": 2,
       "version_minor": 0
      },
      "text/plain": [
       "Movies from 2019:   0%|          | 0/5877 [00:00<?, ?it/s]"
      ]
     },
     "metadata": {},
     "output_type": "display_data"
    },
    {
     "name": "stdout",
     "output_type": "stream",
     "text": [
      "- Total errors: 6738\n",
      "Creating Data/tmdb_api_results_2020.json for API results for 2020.\n"
     ]
    },
    {
     "data": {
      "application/vnd.jupyter.widget-view+json": {
       "model_id": "17021a3befdb4efdbd55e3390294f47f",
       "version_major": 2,
       "version_minor": 0
      },
      "text/plain": [
       "Movies from 2020:   0%|          | 0/5010 [00:00<?, ?it/s]"
      ]
     },
     "metadata": {},
     "output_type": "display_data"
    },
    {
     "name": "stdout",
     "output_type": "stream",
     "text": [
      "- Total errors: 7785\n",
      "Creating Data/tmdb_api_results_2021.json for API results for 2021.\n"
     ]
    },
    {
     "data": {
      "application/vnd.jupyter.widget-view+json": {
       "model_id": "100d18f580f44914b9dad12290559f15",
       "version_major": 2,
       "version_minor": 0
      },
      "text/plain": [
       "Movies from 2021:   0%|          | 0/5163 [00:00<?, ?it/s]"
      ]
     },
     "metadata": {},
     "output_type": "display_data"
    },
    {
     "name": "stdout",
     "output_type": "stream",
     "text": [
      "- Total errors: 8896\n",
      "Creating Data/tmdb_api_results_2022.json for API results for 2022.\n"
     ]
    },
    {
     "data": {
      "application/vnd.jupyter.widget-view+json": {
       "model_id": "19b262c2b320483db4ae41bd07fbd45b",
       "version_major": 2,
       "version_minor": 0
      },
      "text/plain": [
       "Movies from 2022:   0%|          | 0/5073 [00:00<?, ?it/s]"
      ]
     },
     "metadata": {},
     "output_type": "display_data"
    },
    {
     "ename": "ValueError",
     "evalue": "Expected object or value",
     "output_type": "error",
     "traceback": [
      "\u001b[1;31m---------------------------------------------------------------------------\u001b[0m",
      "\u001b[1;31mValueError\u001b[0m                                Traceback (most recent call last)",
      "Cell \u001b[1;32mIn[11], line 49\u001b[0m\n\u001b[0;32m     46\u001b[0m     \u001b[38;5;28;01mexcept\u001b[39;00m \u001b[38;5;167;01mException\u001b[39;00m \u001b[38;5;28;01mas\u001b[39;00m e:\n\u001b[0;32m     47\u001b[0m         errors\u001b[38;5;241m.\u001b[39mappend([movie_id, e])\n\u001b[1;32m---> 49\u001b[0m final_year_df \u001b[38;5;241m=\u001b[39m \u001b[43mpd\u001b[49m\u001b[38;5;241;43m.\u001b[39;49m\u001b[43mread_json\u001b[49m\u001b[43m(\u001b[49m\u001b[43mJSON_FILE\u001b[49m\u001b[43m)\u001b[49m\n\u001b[0;32m     50\u001b[0m final_year_df\u001b[38;5;241m.\u001b[39mto_csv(\u001b[38;5;124mf\u001b[39m\u001b[38;5;124m\"\u001b[39m\u001b[38;5;132;01m{\u001b[39;00mFOLDER\u001b[38;5;132;01m}\u001b[39;00m\u001b[38;5;124mfinal_tmdb_data_\u001b[39m\u001b[38;5;132;01m{\u001b[39;00mYEAR\u001b[38;5;132;01m}\u001b[39;00m\u001b[38;5;124m.csv.gz\u001b[39m\u001b[38;5;124m\"\u001b[39m, compression\u001b[38;5;241m=\u001b[39m\u001b[38;5;124m\"\u001b[39m\u001b[38;5;124mgzip\u001b[39m\u001b[38;5;124m\"\u001b[39m, index\u001b[38;5;241m=\u001b[39m\u001b[38;5;28;01mFalse\u001b[39;00m)\n\u001b[0;32m     52\u001b[0m \u001b[38;5;66;03m# print number of movies that caused error\u001b[39;00m\n",
      "File \u001b[1;32m~\\anaconda3\\envs\\dojo-env\\lib\\site-packages\\pandas\\util\\_decorators.py:211\u001b[0m, in \u001b[0;36mdeprecate_kwarg.<locals>._deprecate_kwarg.<locals>.wrapper\u001b[1;34m(*args, **kwargs)\u001b[0m\n\u001b[0;32m    209\u001b[0m     \u001b[38;5;28;01melse\u001b[39;00m:\n\u001b[0;32m    210\u001b[0m         kwargs[new_arg_name] \u001b[38;5;241m=\u001b[39m new_arg_value\n\u001b[1;32m--> 211\u001b[0m \u001b[38;5;28;01mreturn\u001b[39;00m func(\u001b[38;5;241m*\u001b[39margs, \u001b[38;5;241m*\u001b[39m\u001b[38;5;241m*\u001b[39mkwargs)\n",
      "File \u001b[1;32m~\\anaconda3\\envs\\dojo-env\\lib\\site-packages\\pandas\\util\\_decorators.py:331\u001b[0m, in \u001b[0;36mdeprecate_nonkeyword_arguments.<locals>.decorate.<locals>.wrapper\u001b[1;34m(*args, **kwargs)\u001b[0m\n\u001b[0;32m    325\u001b[0m \u001b[38;5;28;01mif\u001b[39;00m \u001b[38;5;28mlen\u001b[39m(args) \u001b[38;5;241m>\u001b[39m num_allow_args:\n\u001b[0;32m    326\u001b[0m     warnings\u001b[38;5;241m.\u001b[39mwarn(\n\u001b[0;32m    327\u001b[0m         msg\u001b[38;5;241m.\u001b[39mformat(arguments\u001b[38;5;241m=\u001b[39m_format_argument_list(allow_args)),\n\u001b[0;32m    328\u001b[0m         \u001b[38;5;167;01mFutureWarning\u001b[39;00m,\n\u001b[0;32m    329\u001b[0m         stacklevel\u001b[38;5;241m=\u001b[39mfind_stack_level(),\n\u001b[0;32m    330\u001b[0m     )\n\u001b[1;32m--> 331\u001b[0m \u001b[38;5;28;01mreturn\u001b[39;00m func(\u001b[38;5;241m*\u001b[39margs, \u001b[38;5;241m*\u001b[39m\u001b[38;5;241m*\u001b[39mkwargs)\n",
      "File \u001b[1;32m~\\anaconda3\\envs\\dojo-env\\lib\\site-packages\\pandas\\io\\json\\_json.py:757\u001b[0m, in \u001b[0;36mread_json\u001b[1;34m(path_or_buf, orient, typ, dtype, convert_axes, convert_dates, keep_default_dates, numpy, precise_float, date_unit, encoding, encoding_errors, lines, chunksize, compression, nrows, storage_options)\u001b[0m\n\u001b[0;32m    754\u001b[0m     \u001b[38;5;28;01mreturn\u001b[39;00m json_reader\n\u001b[0;32m    756\u001b[0m \u001b[38;5;28;01mwith\u001b[39;00m json_reader:\n\u001b[1;32m--> 757\u001b[0m     \u001b[38;5;28;01mreturn\u001b[39;00m \u001b[43mjson_reader\u001b[49m\u001b[38;5;241;43m.\u001b[39;49m\u001b[43mread\u001b[49m\u001b[43m(\u001b[49m\u001b[43m)\u001b[49m\n",
      "File \u001b[1;32m~\\anaconda3\\envs\\dojo-env\\lib\\site-packages\\pandas\\io\\json\\_json.py:915\u001b[0m, in \u001b[0;36mJsonReader.read\u001b[1;34m(self)\u001b[0m\n\u001b[0;32m    913\u001b[0m         obj \u001b[38;5;241m=\u001b[39m \u001b[38;5;28mself\u001b[39m\u001b[38;5;241m.\u001b[39m_get_object_parser(\u001b[38;5;28mself\u001b[39m\u001b[38;5;241m.\u001b[39m_combine_lines(data_lines))\n\u001b[0;32m    914\u001b[0m \u001b[38;5;28;01melse\u001b[39;00m:\n\u001b[1;32m--> 915\u001b[0m     obj \u001b[38;5;241m=\u001b[39m \u001b[38;5;28;43mself\u001b[39;49m\u001b[38;5;241;43m.\u001b[39;49m\u001b[43m_get_object_parser\u001b[49m\u001b[43m(\u001b[49m\u001b[38;5;28;43mself\u001b[39;49m\u001b[38;5;241;43m.\u001b[39;49m\u001b[43mdata\u001b[49m\u001b[43m)\u001b[49m\n\u001b[0;32m    916\u001b[0m \u001b[38;5;28mself\u001b[39m\u001b[38;5;241m.\u001b[39mclose()\n\u001b[0;32m    917\u001b[0m \u001b[38;5;28;01mreturn\u001b[39;00m obj\n",
      "File \u001b[1;32m~\\anaconda3\\envs\\dojo-env\\lib\\site-packages\\pandas\\io\\json\\_json.py:937\u001b[0m, in \u001b[0;36mJsonReader._get_object_parser\u001b[1;34m(self, json)\u001b[0m\n\u001b[0;32m    935\u001b[0m obj \u001b[38;5;241m=\u001b[39m \u001b[38;5;28;01mNone\u001b[39;00m\n\u001b[0;32m    936\u001b[0m \u001b[38;5;28;01mif\u001b[39;00m typ \u001b[38;5;241m==\u001b[39m \u001b[38;5;124m\"\u001b[39m\u001b[38;5;124mframe\u001b[39m\u001b[38;5;124m\"\u001b[39m:\n\u001b[1;32m--> 937\u001b[0m     obj \u001b[38;5;241m=\u001b[39m \u001b[43mFrameParser\u001b[49m\u001b[43m(\u001b[49m\u001b[43mjson\u001b[49m\u001b[43m,\u001b[49m\u001b[43m \u001b[49m\u001b[38;5;241;43m*\u001b[39;49m\u001b[38;5;241;43m*\u001b[39;49m\u001b[43mkwargs\u001b[49m\u001b[43m)\u001b[49m\u001b[38;5;241;43m.\u001b[39;49m\u001b[43mparse\u001b[49m\u001b[43m(\u001b[49m\u001b[43m)\u001b[49m\n\u001b[0;32m    939\u001b[0m \u001b[38;5;28;01mif\u001b[39;00m typ \u001b[38;5;241m==\u001b[39m \u001b[38;5;124m\"\u001b[39m\u001b[38;5;124mseries\u001b[39m\u001b[38;5;124m\"\u001b[39m \u001b[38;5;129;01mor\u001b[39;00m obj \u001b[38;5;129;01mis\u001b[39;00m \u001b[38;5;28;01mNone\u001b[39;00m:\n\u001b[0;32m    940\u001b[0m     \u001b[38;5;28;01mif\u001b[39;00m \u001b[38;5;129;01mnot\u001b[39;00m \u001b[38;5;28misinstance\u001b[39m(dtype, \u001b[38;5;28mbool\u001b[39m):\n",
      "File \u001b[1;32m~\\anaconda3\\envs\\dojo-env\\lib\\site-packages\\pandas\\io\\json\\_json.py:1064\u001b[0m, in \u001b[0;36mParser.parse\u001b[1;34m(self)\u001b[0m\n\u001b[0;32m   1062\u001b[0m     \u001b[38;5;28mself\u001b[39m\u001b[38;5;241m.\u001b[39m_parse_numpy()\n\u001b[0;32m   1063\u001b[0m \u001b[38;5;28;01melse\u001b[39;00m:\n\u001b[1;32m-> 1064\u001b[0m     \u001b[38;5;28;43mself\u001b[39;49m\u001b[38;5;241;43m.\u001b[39;49m\u001b[43m_parse_no_numpy\u001b[49m\u001b[43m(\u001b[49m\u001b[43m)\u001b[49m\n\u001b[0;32m   1066\u001b[0m \u001b[38;5;28;01mif\u001b[39;00m \u001b[38;5;28mself\u001b[39m\u001b[38;5;241m.\u001b[39mobj \u001b[38;5;129;01mis\u001b[39;00m \u001b[38;5;28;01mNone\u001b[39;00m:\n\u001b[0;32m   1067\u001b[0m     \u001b[38;5;28;01mreturn\u001b[39;00m \u001b[38;5;28;01mNone\u001b[39;00m\n",
      "File \u001b[1;32m~\\anaconda3\\envs\\dojo-env\\lib\\site-packages\\pandas\\io\\json\\_json.py:1321\u001b[0m, in \u001b[0;36mFrameParser._parse_no_numpy\u001b[1;34m(self)\u001b[0m\n\u001b[0;32m   1317\u001b[0m orient \u001b[38;5;241m=\u001b[39m \u001b[38;5;28mself\u001b[39m\u001b[38;5;241m.\u001b[39morient\n\u001b[0;32m   1319\u001b[0m \u001b[38;5;28;01mif\u001b[39;00m orient \u001b[38;5;241m==\u001b[39m \u001b[38;5;124m\"\u001b[39m\u001b[38;5;124mcolumns\u001b[39m\u001b[38;5;124m\"\u001b[39m:\n\u001b[0;32m   1320\u001b[0m     \u001b[38;5;28mself\u001b[39m\u001b[38;5;241m.\u001b[39mobj \u001b[38;5;241m=\u001b[39m DataFrame(\n\u001b[1;32m-> 1321\u001b[0m         \u001b[43mloads\u001b[49m\u001b[43m(\u001b[49m\u001b[43mjson\u001b[49m\u001b[43m,\u001b[49m\u001b[43m \u001b[49m\u001b[43mprecise_float\u001b[49m\u001b[38;5;241;43m=\u001b[39;49m\u001b[38;5;28;43mself\u001b[39;49m\u001b[38;5;241;43m.\u001b[39;49m\u001b[43mprecise_float\u001b[49m\u001b[43m)\u001b[49m, dtype\u001b[38;5;241m=\u001b[39m\u001b[38;5;28;01mNone\u001b[39;00m\n\u001b[0;32m   1322\u001b[0m     )\n\u001b[0;32m   1323\u001b[0m \u001b[38;5;28;01melif\u001b[39;00m orient \u001b[38;5;241m==\u001b[39m \u001b[38;5;124m\"\u001b[39m\u001b[38;5;124msplit\u001b[39m\u001b[38;5;124m\"\u001b[39m:\n\u001b[0;32m   1324\u001b[0m     decoded \u001b[38;5;241m=\u001b[39m {\n\u001b[0;32m   1325\u001b[0m         \u001b[38;5;28mstr\u001b[39m(k): v\n\u001b[0;32m   1326\u001b[0m         \u001b[38;5;28;01mfor\u001b[39;00m k, v \u001b[38;5;129;01min\u001b[39;00m loads(json, precise_float\u001b[38;5;241m=\u001b[39m\u001b[38;5;28mself\u001b[39m\u001b[38;5;241m.\u001b[39mprecise_float)\u001b[38;5;241m.\u001b[39mitems()\n\u001b[0;32m   1327\u001b[0m     }\n",
      "\u001b[1;31mValueError\u001b[0m: Expected object or value"
     ]
    }
   ],
   "source": [
    "# start ot outer loop\n",
    "for YEAR in tqdm_notebook(YEARS_TO_GET2,desc='YEARS',position=0):\n",
    "\n",
    "    # Create the folder for saving files (if it doesn't exist)\n",
    "    FOLDER = \"Data/\"\n",
    "    os.makedirs(FOLDER, exist_ok=True)\n",
    "   \n",
    "    #Defining the JSON file to store results for year\n",
    "    JSON_FILE = f'{FOLDER}tmdb_api_results_{YEAR}.json'\n",
    "    # Check if the JSON file exists\n",
    "    file_exists = os.path.isfile(JSON_FILE)\n",
    "    # If it does not exist: create it\n",
    "    if file_exists == False:\n",
    "        # Print a message indicating the file is being created \n",
    "        print(f\"Creating {JSON_FILE} for API results for {YEAR}.\")\n",
    "        # save an empty dict with just \"imdb_id\" to the new json file.\n",
    "        with open(JSON_FILE,'w') as f:\n",
    "            json.dump([{'imdb_id':0}],f)\n",
    "    # If it exists, print a message\n",
    "    else:\n",
    "        print(f'The file {JSON_FILE} already exists.')   \n",
    "   \n",
    "    # Filtering for movies from selected startYears\n",
    "    df = basics.loc[ basics['startYear']==YEAR].copy()\n",
    "    # saving movie ids to list\n",
    "    movie_ids = df['tconst']\n",
    "    movie_ids.head()\n",
    "\n",
    "    # Load existing data from json into a dataframe called \"previous_df\"\n",
    "    previous_df = pd.read_json(JSON_FILE)\n",
    "    previous_df\n",
    "\n",
    "    # filter out any ids that are already in the JSON_FILE\n",
    "    movie_ids_to_get = movie_ids[~movie_ids.isin(previous_df['imdb_id'])]\n",
    "\n",
    "    # Loop through movie_ids_to_get with a tqdm progress bar\n",
    "    for movie_id in tqdm_notebook(movie_ids_to_get, f\"Movies from {YEAR}\"):\n",
    "        # Attempt to retrieve then data for the movie id\n",
    "        try:\n",
    "            temp = get_movie_with_rating(movie_id)  #This uses your pre-made function\n",
    "            # Append/extend results to existing file using a pre-made function\n",
    "            write_json(temp,JSON_FILE)\n",
    "            # Short 20 ms sleep to prevent overwhelming server\n",
    "            time.sleep(0.02)\n",
    "        # If it fails,  make a dict with just the id and None for certification.\n",
    "        except Exception as e:\n",
    "            errors.append([movie_id, e])\n",
    "\n",
    "    final_year_df = pd.read_json(JSON_FILE)\n",
    "    final_year_df.to_csv(f\"{FOLDER}final_tmdb_data_{YEAR}.csv.gz\", compression=\"gzip\", index=False)\n",
    "\n",
    "    # print number of movies that caused error\n",
    "    print(f\"- Total errors: {len(errors)}\")"
   ]
  },
  {
   "cell_type": "markdown",
   "id": "3e707fc2-49eb-4e49-9b40-02ec21da958f",
   "metadata": {},
   "source": [
    "- All years completed except year 2022 which errored out. 2022 will be ran separately."
   ]
  },
  {
   "cell_type": "markdown",
   "id": "3fd7c074-bd75-4394-be9b-4febe42c6967",
   "metadata": {},
   "source": [
    "# 2022"
   ]
  },
  {
   "cell_type": "code",
   "execution_count": 12,
   "id": "01c9d3b6-1d46-4b70-826e-380f5a39b66e",
   "metadata": {},
   "outputs": [],
   "source": [
    "YEARS_TO_GET3 = [2022]"
   ]
  },
  {
   "cell_type": "code",
   "execution_count": 13,
   "id": "61711982-b72d-4d7c-b928-0cab5fef0d5e",
   "metadata": {},
   "outputs": [
    {
     "data": {
      "application/vnd.jupyter.widget-view+json": {
       "model_id": "ad60833729154c829fd1ea1688c4cb22",
       "version_major": 2,
       "version_minor": 0
      },
      "text/plain": [
       "YEARS:   0%|          | 0/1 [00:00<?, ?it/s]"
      ]
     },
     "metadata": {},
     "output_type": "display_data"
    },
    {
     "name": "stdout",
     "output_type": "stream",
     "text": [
      "Creating Data/tmdb_api_results_2022.json for API results for 2022.\n"
     ]
    },
    {
     "data": {
      "application/vnd.jupyter.widget-view+json": {
       "model_id": "e275d6da74fd44dc9e7c31fe260ee5d6",
       "version_major": 2,
       "version_minor": 0
      },
      "text/plain": [
       "Movies from 2022:   0%|          | 0/5073 [00:00<?, ?it/s]"
      ]
     },
     "metadata": {},
     "output_type": "display_data"
    },
    {
     "name": "stdout",
     "output_type": "stream",
     "text": [
      "- Total errors: 13396\n"
     ]
    }
   ],
   "source": [
    "# start ot outer loop\n",
    "for YEAR in tqdm_notebook(YEARS_TO_GET3,desc='YEARS',position=0):\n",
    "\n",
    "    # Create the folder for saving files (if it doesn't exist)\n",
    "    FOLDER = \"Data/\"\n",
    "    os.makedirs(FOLDER, exist_ok=True)\n",
    "   \n",
    "    #Defining the JSON file to store results for year\n",
    "    JSON_FILE = f'{FOLDER}tmdb_api_results_{YEAR}.json'\n",
    "    # Check if the JSON file exists\n",
    "    file_exists = os.path.isfile(JSON_FILE)\n",
    "    # If it does not exist: create it\n",
    "    if file_exists == False:\n",
    "        # Print a message indicating the file is being created \n",
    "        print(f\"Creating {JSON_FILE} for API results for {YEAR}.\")\n",
    "        # save an empty dict with just \"imdb_id\" to the new json file.\n",
    "        with open(JSON_FILE,'w') as f:\n",
    "            json.dump([{'imdb_id':0}],f)\n",
    "    # If it exists, print a message\n",
    "    else:\n",
    "        print(f'The file {JSON_FILE} already exists.')   \n",
    "   \n",
    "    # Filtering for movies from selected startYears\n",
    "    df = basics.loc[ basics['startYear']==YEAR].copy()\n",
    "    # saving movie ids to list\n",
    "    movie_ids = df['tconst']\n",
    "    movie_ids.head()\n",
    "\n",
    "    # Load existing data from json into a dataframe called \"previous_df\"\n",
    "    previous_df = pd.read_json(JSON_FILE)\n",
    "    previous_df\n",
    "\n",
    "    # filter out any ids that are already in the JSON_FILE\n",
    "    movie_ids_to_get = movie_ids[~movie_ids.isin(previous_df['imdb_id'])]\n",
    "\n",
    "    # Loop through movie_ids_to_get with a tqdm progress bar\n",
    "    for movie_id in tqdm_notebook(movie_ids_to_get, f\"Movies from {YEAR}\"):\n",
    "        # Attempt to retrieve then data for the movie id\n",
    "        try:\n",
    "            temp = get_movie_with_rating(movie_id)  #This uses your pre-made function\n",
    "            # Append/extend results to existing file using a pre-made function\n",
    "            write_json(temp,JSON_FILE)\n",
    "            # Short 20 ms sleep to prevent overwhelming server\n",
    "            time.sleep(0.02)\n",
    "        # If it fails,  make a dict with just the id and None for certification.\n",
    "        except Exception as e:\n",
    "            errors.append([movie_id, e])\n",
    "\n",
    "    final_year_df = pd.read_json(JSON_FILE)\n",
    "    final_year_df.to_csv(f\"{FOLDER}final_tmdb_data_{YEAR}.csv.gz\", compression=\"gzip\", index=False)\n",
    "\n",
    "    # print number of movies that caused error\n",
    "    print(f\"- Total errors: {len(errors)}\")"
   ]
  },
  {
   "cell_type": "markdown",
   "id": "08c09d97-e324-43b3-9bb0-1afd3f42f8bd",
   "metadata": {},
   "source": [
    "- All API calls for 2000-2022 completed."
   ]
  }
 ],
 "metadata": {
  "kernelspec": {
   "display_name": "Python (dojo-env)",
   "language": "python",
   "name": "dojo-env"
  },
  "language_info": {
   "codemirror_mode": {
    "name": "ipython",
    "version": 3
   },
   "file_extension": ".py",
   "mimetype": "text/x-python",
   "name": "python",
   "nbconvert_exporter": "python",
   "pygments_lexer": "ipython3",
   "version": "3.10.10"
  },
  "widgets": {
   "application/vnd.jupyter.widget-state+json": {
    "state": {
     "00cb6377c575462ab73d83f40026c245": {
      "model_module": "@jupyter-widgets/controls",
      "model_module_version": "2.0.0",
      "model_name": "ProgressStyleModel",
      "state": {
       "description_width": ""
      }
     },
     "01014621a7424830b884b73ee4a59c53": {
      "model_module": "@jupyter-widgets/base",
      "model_module_version": "2.0.0",
      "model_name": "LayoutModel",
      "state": {}
     },
     "0209eb21d8f64089bbd990de05b833be": {
      "model_module": "@jupyter-widgets/base",
      "model_module_version": "2.0.0",
      "model_name": "LayoutModel",
      "state": {}
     },
     "083b060b8c304c99aaa3407561e4a180": {
      "model_module": "@jupyter-widgets/controls",
      "model_module_version": "2.0.0",
      "model_name": "HTMLModel",
      "state": {
       "layout": "IPY_MODEL_a5c4d97dd0834805ae3ce06b5f27ad7b",
       "style": "IPY_MODEL_dd32d5f950bb4ed78051da0e43cc6cfd",
       "value": " 4522/4522 [29:50&lt;00:00, 558.30it/s]"
      }
     },
     "096647920e1d421fa00d91b417404acb": {
      "model_module": "@jupyter-widgets/controls",
      "model_module_version": "2.0.0",
      "model_name": "ProgressStyleModel",
      "state": {
       "description_width": ""
      }
     },
     "097f7fb74a204cb7887762e77b05b620": {
      "model_module": "@jupyter-widgets/controls",
      "model_module_version": "2.0.0",
      "model_name": "HTMLModel",
      "state": {
       "layout": "IPY_MODEL_add0455904214312977d87bbb9b18f5d",
       "style": "IPY_MODEL_f60c95ca1b7b4229bf12c3e0891f0c40",
       "value": " 5163/5163 [1:37:46&lt;00:00,  2.01s/it]"
      }
     },
     "0a464bb9c30244d492f74996cb6d6e2e": {
      "model_module": "@jupyter-widgets/controls",
      "model_module_version": "2.0.0",
      "model_name": "HBoxModel",
      "state": {
       "children": [
        "IPY_MODEL_6365b8fcb2244d118e85de129b8638ab",
        "IPY_MODEL_aa05867b05e141729d37a89546ed509c",
        "IPY_MODEL_e55aaa0ce21f4a25b07407658e7e6d80"
       ],
       "layout": "IPY_MODEL_54ebd0ecaa0e4f32993bbf1485511f73"
      }
     },
     "0eaac931a60c400880f25db9da0d4f14": {
      "model_module": "@jupyter-widgets/base",
      "model_module_version": "2.0.0",
      "model_name": "LayoutModel",
      "state": {}
     },
     "100d18f580f44914b9dad12290559f15": {
      "model_module": "@jupyter-widgets/controls",
      "model_module_version": "2.0.0",
      "model_name": "HBoxModel",
      "state": {
       "children": [
        "IPY_MODEL_fafc0185efb148ad82e05d5d3979e990",
        "IPY_MODEL_4a182a5c658044bfad329fece5c03eae",
        "IPY_MODEL_097f7fb74a204cb7887762e77b05b620"
       ],
       "layout": "IPY_MODEL_f06d1d67d4c944e2b39c5dad806cd600"
      }
     },
     "10a8372874164f54b631ca287f222171": {
      "model_module": "@jupyter-widgets/controls",
      "model_module_version": "2.0.0",
      "model_name": "ProgressStyleModel",
      "state": {
       "description_width": ""
      }
     },
     "11c2ecbb5ba6472e8e125f1e7a6ff047": {
      "model_module": "@jupyter-widgets/controls",
      "model_module_version": "2.0.0",
      "model_name": "HBoxModel",
      "state": {
       "children": [
        "IPY_MODEL_1e443c7aeed84c22855ce624956fbe17",
        "IPY_MODEL_f584bc4212374f4882573115bbb78063",
        "IPY_MODEL_d8b78d19e12048fba219520674192fe6"
       ],
       "layout": "IPY_MODEL_6eb9fa5f708a490990afc857a0c3e7c1"
      }
     },
     "1337f77d647846718c81320e945ad283": {
      "model_module": "@jupyter-widgets/base",
      "model_module_version": "2.0.0",
      "model_name": "LayoutModel",
      "state": {}
     },
     "135ad70aa33e43049ff3697ea9274dad": {
      "model_module": "@jupyter-widgets/controls",
      "model_module_version": "2.0.0",
      "model_name": "HBoxModel",
      "state": {
       "children": [
        "IPY_MODEL_de753e81cf0b4074b5b70de6a8362406",
        "IPY_MODEL_a5cd5cb7f88741d5b8a98c562a95531b",
        "IPY_MODEL_67014acaff1a4f27ba06cd46bed3bd58"
       ],
       "layout": "IPY_MODEL_c3ce8ad84fa3472e923e97533483f303"
      }
     },
     "14284e6fb15240e397e0630e61dc70c4": {
      "model_module": "@jupyter-widgets/base",
      "model_module_version": "2.0.0",
      "model_name": "LayoutModel",
      "state": {}
     },
     "145cf93899074e848722fb536f553607": {
      "model_module": "@jupyter-widgets/base",
      "model_module_version": "2.0.0",
      "model_name": "LayoutModel",
      "state": {}
     },
     "14fe3e8f648c47a5ad671b8214a00f1a": {
      "model_module": "@jupyter-widgets/controls",
      "model_module_version": "2.0.0",
      "model_name": "HTMLStyleModel",
      "state": {
       "description_width": "",
       "font_size": null,
       "text_color": null
      }
     },
     "161e0994bae54b43805161d7ae6d6f07": {
      "model_module": "@jupyter-widgets/controls",
      "model_module_version": "2.0.0",
      "model_name": "HTMLStyleModel",
      "state": {
       "description_width": "",
       "font_size": null,
       "text_color": null
      }
     },
     "17021a3befdb4efdbd55e3390294f47f": {
      "model_module": "@jupyter-widgets/controls",
      "model_module_version": "2.0.0",
      "model_name": "HBoxModel",
      "state": {
       "children": [
        "IPY_MODEL_669bafa9e8274b0db4d3a0e24a63431f",
        "IPY_MODEL_1c9f1f622822475b8e72d6dda2dd895f",
        "IPY_MODEL_3d57491a15044df888c4dae4b10369ec"
       ],
       "layout": "IPY_MODEL_ca6911a1545848e0bfe7e7820e7c399c"
      }
     },
     "17e364b900e342d5b0527b0b8a0b1f9c": {
      "model_module": "@jupyter-widgets/base",
      "model_module_version": "2.0.0",
      "model_name": "LayoutModel",
      "state": {}
     },
     "187916a03b384846837815263bbc6a5a": {
      "model_module": "@jupyter-widgets/controls",
      "model_module_version": "2.0.0",
      "model_name": "HBoxModel",
      "state": {
       "children": [
        "IPY_MODEL_53911a70bdae45f3a8dcb678e621e646",
        "IPY_MODEL_287d381bf7c242a4b4dc883ff4cc8ca7",
        "IPY_MODEL_f3652dc4079749cfa9373b008eea0bc9"
       ],
       "layout": "IPY_MODEL_d0297550d5044a59abf9061e595f3afc"
      }
     },
     "19b262c2b320483db4ae41bd07fbd45b": {
      "model_module": "@jupyter-widgets/controls",
      "model_module_version": "2.0.0",
      "model_name": "HBoxModel",
      "state": {
       "children": [
        "IPY_MODEL_bc31790d86b04ba9a318b71766973321",
        "IPY_MODEL_fc6bd359321b42e783eaa702489b63a5",
        "IPY_MODEL_3781db467346460285450351eeef830a"
       ],
       "layout": "IPY_MODEL_e4f51a3b8b414a24a8016955ebd21abd"
      }
     },
     "1bd44de24e444cb7bb303a2e4a8d9a2c": {
      "model_module": "@jupyter-widgets/controls",
      "model_module_version": "2.0.0",
      "model_name": "HTMLModel",
      "state": {
       "layout": "IPY_MODEL_4c7088b140cc4b26b8563c3e041f908a",
       "style": "IPY_MODEL_f948befd6b8c439d9b6e1fdec616c436",
       "value": " 2185/2185 [17:51&lt;00:00,  4.10it/s]"
      }
     },
     "1c39993d4be641978fb359c38cc2bf2a": {
      "model_module": "@jupyter-widgets/base",
      "model_module_version": "2.0.0",
      "model_name": "LayoutModel",
      "state": {}
     },
     "1c9f1f622822475b8e72d6dda2dd895f": {
      "model_module": "@jupyter-widgets/controls",
      "model_module_version": "2.0.0",
      "model_name": "FloatProgressModel",
      "state": {
       "bar_style": "success",
       "layout": "IPY_MODEL_37c2636b0a994031b8f5e8c16208f9ba",
       "max": 5010,
       "style": "IPY_MODEL_6258379bd051411896b7f1b34d41ce09",
       "value": 5010
      }
     },
     "1e443c7aeed84c22855ce624956fbe17": {
      "model_module": "@jupyter-widgets/controls",
      "model_module_version": "2.0.0",
      "model_name": "HTMLModel",
      "state": {
       "layout": "IPY_MODEL_aff3b5cbf9ce4186ab3dce6b0a6ea65e",
       "style": "IPY_MODEL_43526485b88f412785d0ff556284f02d",
       "value": "Movies from 2006: 100%"
      }
     },
     "1e75be199eca482ab1cc5d2286c11755": {
      "model_module": "@jupyter-widgets/controls",
      "model_module_version": "2.0.0",
      "model_name": "HTMLModel",
      "state": {
       "layout": "IPY_MODEL_9bbabce53022467c936c2cdcde0d379e",
       "style": "IPY_MODEL_86fef0359547447fb73d8b6d8f475d18",
       "value": "Movies from 2007: 100%"
      }
     },
     "1eecb3932f5c439c813989c3748c955f": {
      "model_module": "@jupyter-widgets/base",
      "model_module_version": "2.0.0",
      "model_name": "LayoutModel",
      "state": {}
     },
     "205da4c215cb43349ab6f6c25c4619d3": {
      "model_module": "@jupyter-widgets/base",
      "model_module_version": "2.0.0",
      "model_name": "LayoutModel",
      "state": {}
     },
     "20ea5d47f5c64e1687b8b174df424cf5": {
      "model_module": "@jupyter-widgets/controls",
      "model_module_version": "2.0.0",
      "model_name": "HTMLStyleModel",
      "state": {
       "description_width": "",
       "font_size": null,
       "text_color": null
      }
     },
     "214e18f2be57442ca1610f0d2130a4e6": {
      "model_module": "@jupyter-widgets/controls",
      "model_module_version": "2.0.0",
      "model_name": "HTMLModel",
      "state": {
       "layout": "IPY_MODEL_17e364b900e342d5b0527b0b8a0b1f9c",
       "style": "IPY_MODEL_ffb65df06f034b118cbea2741d03bc91",
       "value": "Movies from 2011: 100%"
      }
     },
     "22089ef21cc34897b2f3aa1dc81749c2": {
      "model_module": "@jupyter-widgets/controls",
      "model_module_version": "2.0.0",
      "model_name": "HTMLStyleModel",
      "state": {
       "description_width": "",
       "font_size": null,
       "text_color": null
      }
     },
     "229191ec4527437989c628b5b0e6fbd4": {
      "model_module": "@jupyter-widgets/controls",
      "model_module_version": "2.0.0",
      "model_name": "HTMLStyleModel",
      "state": {
       "description_width": "",
       "font_size": null,
       "text_color": null
      }
     },
     "22c5914cf24c4cf9b7b4012f779bee1a": {
      "model_module": "@jupyter-widgets/controls",
      "model_module_version": "2.0.0",
      "model_name": "HTMLModel",
      "state": {
       "layout": "IPY_MODEL_01014621a7424830b884b73ee4a59c53",
       "style": "IPY_MODEL_22089ef21cc34897b2f3aa1dc81749c2",
       "value": " 8/9 [13:44:22&lt;1:34:43, 5683.39s/it]"
      }
     },
     "258bf1dadd24491b958942175fda97d5": {
      "model_module": "@jupyter-widgets/base",
      "model_module_version": "2.0.0",
      "model_name": "LayoutModel",
      "state": {}
     },
     "274d34fc720f4cb9bc630b7e166d0239": {
      "model_module": "@jupyter-widgets/controls",
      "model_module_version": "2.0.0",
      "model_name": "HTMLStyleModel",
      "state": {
       "description_width": "",
       "font_size": null,
       "text_color": null
      }
     },
     "287d381bf7c242a4b4dc883ff4cc8ca7": {
      "model_module": "@jupyter-widgets/controls",
      "model_module_version": "2.0.0",
      "model_name": "FloatProgressModel",
      "state": {
       "bar_style": "success",
       "layout": "IPY_MODEL_fa65be1b3866455db321bc2318f594de",
       "max": 4714,
       "style": "IPY_MODEL_cc0c8939c2344e36b0ce0b30a4171115",
       "value": 4714
      }
     },
     "291ed4a63c1446d59148ca6856d11e87": {
      "model_module": "@jupyter-widgets/controls",
      "model_module_version": "2.0.0",
      "model_name": "HBoxModel",
      "state": {
       "children": [
        "IPY_MODEL_f0b8275dca0e4569a98559e6b7ed6b67",
        "IPY_MODEL_6b3cb88edbe34059b9fceb3360faf1bb",
        "IPY_MODEL_2f297568ee5141719fe495bc9edd3acf"
       ],
       "layout": "IPY_MODEL_b97790c20f41497b9129abca197dd910"
      }
     },
     "2928ca13510d4bf9a80e7aa859eb686e": {
      "model_module": "@jupyter-widgets/controls",
      "model_module_version": "2.0.0",
      "model_name": "HBoxModel",
      "state": {
       "children": [
        "IPY_MODEL_75a9342dffc04384a13f3d093836880a",
        "IPY_MODEL_71cd4579ae3e42109be44ab1524ba36e",
        "IPY_MODEL_22c5914cf24c4cf9b7b4012f779bee1a"
       ],
       "layout": "IPY_MODEL_ffe63c56cef64d14b1ac4c0b3310b6cf"
      }
     },
     "2a34bc28124e453d9085570ae9ae1ab9": {
      "model_module": "@jupyter-widgets/base",
      "model_module_version": "2.0.0",
      "model_name": "LayoutModel",
      "state": {}
     },
     "2a3771b1deba45d8b8b0c0c295f14548": {
      "model_module": "@jupyter-widgets/controls",
      "model_module_version": "2.0.0",
      "model_name": "HTMLModel",
      "state": {
       "layout": "IPY_MODEL_1c39993d4be641978fb359c38cc2bf2a",
       "style": "IPY_MODEL_adafea1cbf6743188b38c33aae9abac0",
       "value": "Movies from 2005: 100%"
      }
     },
     "2baacad1d0a64a598f7f18733ad4a973": {
      "model_module": "@jupyter-widgets/controls",
      "model_module_version": "2.0.0",
      "model_name": "HTMLStyleModel",
      "state": {
       "description_width": "",
       "font_size": null,
       "text_color": null
      }
     },
     "2d564e9a36654dc7a8b8fb641a24aa84": {
      "model_module": "@jupyter-widgets/controls",
      "model_module_version": "2.0.0",
      "model_name": "HTMLStyleModel",
      "state": {
       "description_width": "",
       "font_size": null,
       "text_color": null
      }
     },
     "2dfec7668ec4462ab67626fd1b9c89e9": {
      "model_module": "@jupyter-widgets/base",
      "model_module_version": "2.0.0",
      "model_name": "LayoutModel",
      "state": {}
     },
     "2f297568ee5141719fe495bc9edd3acf": {
      "model_module": "@jupyter-widgets/controls",
      "model_module_version": "2.0.0",
      "model_name": "HTMLModel",
      "state": {
       "layout": "IPY_MODEL_a51f845384a44f51ac707e4818197235",
       "style": "IPY_MODEL_20ea5d47f5c64e1687b8b174df424cf5",
       "value": " 2912/2912 [25:04&lt;00:00,  3.85it/s]"
      }
     },
     "2f8ce20494dc4f70bf41edd4c004e7c4": {
      "model_module": "@jupyter-widgets/controls",
      "model_module_version": "2.0.0",
      "model_name": "HTMLModel",
      "state": {
       "layout": "IPY_MODEL_30616c7a8a354660bb195c0d304d9145",
       "style": "IPY_MODEL_3d94780da2ce4314ae8e485936e19a94",
       "value": "Movies from 2000: 100%"
      }
     },
     "30616c7a8a354660bb195c0d304d9145": {
      "model_module": "@jupyter-widgets/base",
      "model_module_version": "2.0.0",
      "model_name": "LayoutModel",
      "state": {}
     },
     "317cec251acd4a258b93833d8c265e7d": {
      "model_module": "@jupyter-widgets/base",
      "model_module_version": "2.0.0",
      "model_name": "LayoutModel",
      "state": {}
     },
     "322cba4ff7bc4b23808422fdca6046c2": {
      "model_module": "@jupyter-widgets/controls",
      "model_module_version": "2.0.0",
      "model_name": "ProgressStyleModel",
      "state": {
       "description_width": ""
      }
     },
     "331ff732a1354995978389e302bb0f69": {
      "model_module": "@jupyter-widgets/controls",
      "model_module_version": "2.0.0",
      "model_name": "HTMLModel",
      "state": {
       "layout": "IPY_MODEL_cdcfeafe931e4768bbaae1ff72514a47",
       "style": "IPY_MODEL_161e0994bae54b43805161d7ae6d6f07",
       "value": " 1/1 [1:17:39&lt;00:00, 4659.86s/it]"
      }
     },
     "33f40760a703411ea7c26d5813fcfbec": {
      "model_module": "@jupyter-widgets/controls",
      "model_module_version": "2.0.0",
      "model_name": "HTMLStyleModel",
      "state": {
       "description_width": "",
       "font_size": null,
       "text_color": null
      }
     },
     "34bb202b8e3049499477ef16dd28b5a6": {
      "model_module": "@jupyter-widgets/controls",
      "model_module_version": "2.0.0",
      "model_name": "FloatProgressModel",
      "state": {
       "bar_style": "success",
       "layout": "IPY_MODEL_5b35b3ded59a4438a3b74ac2c485134e",
       "max": 2185,
       "style": "IPY_MODEL_322cba4ff7bc4b23808422fdca6046c2",
       "value": 2185
      }
     },
     "34dd498a7f37405996b0c8c6beb99b1f": {
      "model_module": "@jupyter-widgets/controls",
      "model_module_version": "2.0.0",
      "model_name": "HTMLStyleModel",
      "state": {
       "description_width": "",
       "font_size": null,
       "text_color": null
      }
     },
     "35cd2cf9a8af4c9c9583353b47d9149f": {
      "model_module": "@jupyter-widgets/controls",
      "model_module_version": "2.0.0",
      "model_name": "ProgressStyleModel",
      "state": {
       "description_width": ""
      }
     },
     "370ec5d2a89d4cd39d9efab7700cb55e": {
      "model_module": "@jupyter-widgets/controls",
      "model_module_version": "2.0.0",
      "model_name": "HTMLStyleModel",
      "state": {
       "description_width": "",
       "font_size": null,
       "text_color": null
      }
     },
     "3781db467346460285450351eeef830a": {
      "model_module": "@jupyter-widgets/controls",
      "model_module_version": "2.0.0",
      "model_name": "HTMLModel",
      "state": {
       "layout": "IPY_MODEL_5fb9fab088d74f4bb57f639a364da02a",
       "style": "IPY_MODEL_14fe3e8f648c47a5ad671b8214a00f1a",
       "value": " 5073/5073 [1:50:33&lt;00:00,  1.47it/s]"
      }
     },
     "3785453b4a274c9db87812750234d4b1": {
      "model_module": "@jupyter-widgets/controls",
      "model_module_version": "2.0.0",
      "model_name": "ProgressStyleModel",
      "state": {
       "description_width": ""
      }
     },
     "37c2636b0a994031b8f5e8c16208f9ba": {
      "model_module": "@jupyter-widgets/base",
      "model_module_version": "2.0.0",
      "model_name": "LayoutModel",
      "state": {}
     },
     "3aa5e5a61cc643228a870e70b1665a99": {
      "model_module": "@jupyter-widgets/base",
      "model_module_version": "2.0.0",
      "model_name": "LayoutModel",
      "state": {}
     },
     "3cbed181d5314981b44008ee40e88cf7": {
      "model_module": "@jupyter-widgets/controls",
      "model_module_version": "2.0.0",
      "model_name": "ProgressStyleModel",
      "state": {
       "description_width": ""
      }
     },
     "3d57491a15044df888c4dae4b10369ec": {
      "model_module": "@jupyter-widgets/controls",
      "model_module_version": "2.0.0",
      "model_name": "HTMLModel",
      "state": {
       "layout": "IPY_MODEL_6ee0fc2bef8b4a36b11925db1377edc8",
       "style": "IPY_MODEL_229191ec4527437989c628b5b0e6fbd4",
       "value": " 5010/5010 [1:20:40&lt;00:00,  1.82s/it]"
      }
     },
     "3d94780da2ce4314ae8e485936e19a94": {
      "model_module": "@jupyter-widgets/controls",
      "model_module_version": "2.0.0",
      "model_name": "HTMLStyleModel",
      "state": {
       "description_width": "",
       "font_size": null,
       "text_color": null
      }
     },
     "3e85f70ae9dc4c46b5b4863f356784d8": {
      "model_module": "@jupyter-widgets/controls",
      "model_module_version": "2.0.0",
      "model_name": "FloatProgressModel",
      "state": {
       "bar_style": "success",
       "layout": "IPY_MODEL_eb0391c7c31c43c2adbfb1639d15cffa",
       "max": 3560,
       "style": "IPY_MODEL_4c55d2285ff24b48a6c984cfb6fa5976",
       "value": 3560
      }
     },
     "3f65e04bc44549be88171093d454650c": {
      "model_module": "@jupyter-widgets/base",
      "model_module_version": "2.0.0",
      "model_name": "LayoutModel",
      "state": {}
     },
     "3fc4d8c0390548509476d718ac37f07d": {
      "model_module": "@jupyter-widgets/base",
      "model_module_version": "2.0.0",
      "model_name": "LayoutModel",
      "state": {}
     },
     "4020c51ddda340989c533acf9788e607": {
      "model_module": "@jupyter-widgets/base",
      "model_module_version": "2.0.0",
      "model_name": "LayoutModel",
      "state": {}
     },
     "411736e1b6634c42a029fbf40bdd2cf3": {
      "model_module": "@jupyter-widgets/controls",
      "model_module_version": "2.0.0",
      "model_name": "FloatProgressModel",
      "state": {
       "bar_style": "success",
       "layout": "IPY_MODEL_14284e6fb15240e397e0630e61dc70c4",
       "max": 5643,
       "style": "IPY_MODEL_3cbed181d5314981b44008ee40e88cf7",
       "value": 5643
      }
     },
     "4183b948e802464aa62f91c2566ac502": {
      "model_module": "@jupyter-widgets/controls",
      "model_module_version": "2.0.0",
      "model_name": "HTMLModel",
      "state": {
       "layout": "IPY_MODEL_8a7cc2e0f89043aba219ad0a5363f5a2",
       "style": "IPY_MODEL_9bd8165f18eb43db8146cb59926a1d07",
       "value": "Movies from 2015: 100%"
      }
     },
     "43526485b88f412785d0ff556284f02d": {
      "model_module": "@jupyter-widgets/controls",
      "model_module_version": "2.0.0",
      "model_name": "HTMLStyleModel",
      "state": {
       "description_width": "",
       "font_size": null,
       "text_color": null
      }
     },
     "460aad3a3bac4ef78c1cbd8f2761bcc3": {
      "model_module": "@jupyter-widgets/controls",
      "model_module_version": "2.0.0",
      "model_name": "HTMLModel",
      "state": {
       "layout": "IPY_MODEL_5e73de8efa614764abfe7d53ec6b6679",
       "style": "IPY_MODEL_ee134bf96aa84823a0ac3335b09d47ba",
       "value": " 5056/5056 [1:02:07&lt;00:00,  1.38it/s]"
      }
     },
     "460bf95c0fa2415f91bc50c4f3e18931": {
      "model_module": "@jupyter-widgets/controls",
      "model_module_version": "2.0.0",
      "model_name": "HTMLStyleModel",
      "state": {
       "description_width": "",
       "font_size": null,
       "text_color": null
      }
     },
     "47a80112d56440c59c69d8cee0649def": {
      "model_module": "@jupyter-widgets/base",
      "model_module_version": "2.0.0",
      "model_name": "LayoutModel",
      "state": {}
     },
     "495f0ee6c9c34326a5b396acd9b6ff32": {
      "model_module": "@jupyter-widgets/controls",
      "model_module_version": "2.0.0",
      "model_name": "HBoxModel",
      "state": {
       "children": [
        "IPY_MODEL_1e75be199eca482ab1cc5d2286c11755",
        "IPY_MODEL_f3f8ecb784e143aa8a3ddc185b2baa59",
        "IPY_MODEL_8d8e4f06b1f34f7a98c347573c137781"
       ],
       "layout": "IPY_MODEL_aa575da9e11e43cfa0271ef8f5fcaeb5"
      }
     },
     "4a182a5c658044bfad329fece5c03eae": {
      "model_module": "@jupyter-widgets/controls",
      "model_module_version": "2.0.0",
      "model_name": "FloatProgressModel",
      "state": {
       "bar_style": "success",
       "layout": "IPY_MODEL_77ce99aaeac64380b78ec132dc98797a",
       "max": 5163,
       "style": "IPY_MODEL_a8596d304e5d4df68fb981da9364b76f",
       "value": 5163
      }
     },
     "4a32294574104c8ca32e6b6da62f979f": {
      "model_module": "@jupyter-widgets/controls",
      "model_module_version": "2.0.0",
      "model_name": "HTMLModel",
      "state": {
       "layout": "IPY_MODEL_c956f8aff7684f0b84bc0d5245656cce",
       "style": "IPY_MODEL_b5f7cd680058437facaab6dc979db755",
       "value": "Movies from 2004: 100%"
      }
     },
     "4bf017e3d10c428b9f72842120e1ebb9": {
      "model_module": "@jupyter-widgets/controls",
      "model_module_version": "2.0.0",
      "model_name": "HTMLModel",
      "state": {
       "layout": "IPY_MODEL_dd54ddcb1745439db771c56b834f2981",
       "style": "IPY_MODEL_4cb598a7bfec4b0ca0bb504b9c61574c",
       "value": "Movies from 2017: 100%"
      }
     },
     "4c55d2285ff24b48a6c984cfb6fa5976": {
      "model_module": "@jupyter-widgets/controls",
      "model_module_version": "2.0.0",
      "model_name": "ProgressStyleModel",
      "state": {
       "description_width": ""
      }
     },
     "4c7088b140cc4b26b8563c3e041f908a": {
      "model_module": "@jupyter-widgets/base",
      "model_module_version": "2.0.0",
      "model_name": "LayoutModel",
      "state": {}
     },
     "4cb598a7bfec4b0ca0bb504b9c61574c": {
      "model_module": "@jupyter-widgets/controls",
      "model_module_version": "2.0.0",
      "model_name": "HTMLStyleModel",
      "state": {
       "description_width": "",
       "font_size": null,
       "text_color": null
      }
     },
     "50e717e721384b0e98b59f3e6873c1a4": {
      "model_module": "@jupyter-widgets/controls",
      "model_module_version": "2.0.0",
      "model_name": "HTMLStyleModel",
      "state": {
       "description_width": "",
       "font_size": null,
       "text_color": null
      }
     },
     "517baa703a6e4c4a80ca153d76ac2dc3": {
      "model_module": "@jupyter-widgets/controls",
      "model_module_version": "2.0.0",
      "model_name": "HTMLModel",
      "state": {
       "layout": "IPY_MODEL_9f13e2c4db3a4f10a2692e1287877beb",
       "style": "IPY_MODEL_e9813d4fcb094edb94a74dc14d6880b3",
       "value": " 5785/5785 [2:03:05&lt;00:00,  4.72s/it]"
      }
     },
     "53911a70bdae45f3a8dcb678e621e646": {
      "model_module": "@jupyter-widgets/controls",
      "model_module_version": "2.0.0",
      "model_name": "HTMLModel",
      "state": {
       "layout": "IPY_MODEL_3fc4d8c0390548509476d718ac37f07d",
       "style": "IPY_MODEL_883cf17c550e43979fcb541e26cb08f2",
       "value": "Movies from 2013: 100%"
      }
     },
     "5420683573ed4d6b99f9bda1da016c88": {
      "model_module": "@jupyter-widgets/controls",
      "model_module_version": "2.0.0",
      "model_name": "ProgressStyleModel",
      "state": {
       "description_width": ""
      }
     },
     "54ebd0ecaa0e4f32993bbf1485511f73": {
      "model_module": "@jupyter-widgets/base",
      "model_module_version": "2.0.0",
      "model_name": "LayoutModel",
      "state": {}
     },
     "5599e91f4e834279b5fd57a386db3ef9": {
      "model_module": "@jupyter-widgets/base",
      "model_module_version": "2.0.0",
      "model_name": "LayoutModel",
      "state": {}
     },
     "58a215c453564342bd2fee3e1c541070": {
      "model_module": "@jupyter-widgets/controls",
      "model_module_version": "2.0.0",
      "model_name": "HTMLStyleModel",
      "state": {
       "description_width": "",
       "font_size": null,
       "text_color": null
      }
     },
     "58c1e882d3f74cbfa43623890441acba": {
      "model_module": "@jupyter-widgets/controls",
      "model_module_version": "2.0.0",
      "model_name": "HBoxModel",
      "state": {
       "children": [
        "IPY_MODEL_2f8ce20494dc4f70bf41edd4c004e7c4",
        "IPY_MODEL_76689fb5f60f46fcb5de34e5190069ba",
        "IPY_MODEL_7e46c0d0a54b4b1f8f30add2a307c51c"
       ],
       "layout": "IPY_MODEL_5599e91f4e834279b5fd57a386db3ef9"
      }
     },
     "5a837b1d7db64aa880eb0180caaa7b44": {
      "model_module": "@jupyter-widgets/controls",
      "model_module_version": "2.0.0",
      "model_name": "ProgressStyleModel",
      "state": {
       "description_width": ""
      }
     },
     "5b33df4eca4b4d3aa18ff2013d118c47": {
      "model_module": "@jupyter-widgets/base",
      "model_module_version": "2.0.0",
      "model_name": "LayoutModel",
      "state": {}
     },
     "5b35b3ded59a4438a3b74ac2c485134e": {
      "model_module": "@jupyter-widgets/base",
      "model_module_version": "2.0.0",
      "model_name": "LayoutModel",
      "state": {}
     },
     "5bd6eb015bec4a0cb312182ca4a0c3e5": {
      "model_module": "@jupyter-widgets/controls",
      "model_module_version": "2.0.0",
      "model_name": "FloatProgressModel",
      "state": {
       "bar_style": "success",
       "layout": "IPY_MODEL_fe921b13c68147e79d89ce59c9c841cd",
       "max": 4229,
       "style": "IPY_MODEL_76d3562311ea430bb7ca8316d8df0b1c",
       "value": 4229
      }
     },
     "5c31775db6334a92841d27474ebce79c": {
      "model_module": "@jupyter-widgets/controls",
      "model_module_version": "2.0.0",
      "model_name": "HTMLModel",
      "state": {
       "layout": "IPY_MODEL_805e19bb3c954d24bcfebf7c11d24714",
       "style": "IPY_MODEL_50e717e721384b0e98b59f3e6873c1a4",
       "value": " 1687/1687 [11:21&lt;00:00,  3.25it/s]"
      }
     },
     "5c6e533b2f2d44baad673c27da5d66ec": {
      "model_module": "@jupyter-widgets/controls",
      "model_module_version": "2.0.0",
      "model_name": "HTMLModel",
      "state": {
       "layout": "IPY_MODEL_b4780feb869a4d9abacf1ab104a8fc23",
       "style": "IPY_MODEL_f558366204c046b69166c08b99a52e33",
       "value": "Movies from 2018: 100%"
      }
     },
     "5e73de8efa614764abfe7d53ec6b6679": {
      "model_module": "@jupyter-widgets/base",
      "model_module_version": "2.0.0",
      "model_name": "LayoutModel",
      "state": {}
     },
     "5ed9db0be6024021b66ff87a506b57db": {
      "model_module": "@jupyter-widgets/controls",
      "model_module_version": "2.0.0",
      "model_name": "HTMLStyleModel",
      "state": {
       "description_width": "",
       "font_size": null,
       "text_color": null
      }
     },
     "5fb6d0fbb1b94b1682a91391bdd10dd1": {
      "model_module": "@jupyter-widgets/controls",
      "model_module_version": "2.0.0",
      "model_name": "HTMLModel",
      "state": {
       "layout": "IPY_MODEL_b45e14d0102847ee8c2f7343544f79b6",
       "style": "IPY_MODEL_274d34fc720f4cb9bc630b7e166d0239",
       "value": " 5643/5643 [1:36:45&lt;00:00,  1.88it/s]"
      }
     },
     "5fb9fab088d74f4bb57f639a364da02a": {
      "model_module": "@jupyter-widgets/base",
      "model_module_version": "2.0.0",
      "model_name": "LayoutModel",
      "state": {}
     },
     "5fd12ca6a2cf4338925de2ae1c0794b4": {
      "model_module": "@jupyter-widgets/controls",
      "model_module_version": "2.0.0",
      "model_name": "HTMLStyleModel",
      "state": {
       "description_width": "",
       "font_size": null,
       "text_color": null
      }
     },
     "600227d3b1c148d580d5f90dda3ce8c1": {
      "model_module": "@jupyter-widgets/controls",
      "model_module_version": "2.0.0",
      "model_name": "ProgressStyleModel",
      "state": {
       "description_width": ""
      }
     },
     "60e312f57d214fa8beb22a7d8f2b77d4": {
      "model_module": "@jupyter-widgets/base",
      "model_module_version": "2.0.0",
      "model_name": "LayoutModel",
      "state": {}
     },
     "6258379bd051411896b7f1b34d41ce09": {
      "model_module": "@jupyter-widgets/controls",
      "model_module_version": "2.0.0",
      "model_name": "ProgressStyleModel",
      "state": {
       "description_width": ""
      }
     },
     "6365b8fcb2244d118e85de129b8638ab": {
      "model_module": "@jupyter-widgets/controls",
      "model_module_version": "2.0.0",
      "model_name": "HTMLModel",
      "state": {
       "layout": "IPY_MODEL_bb72b7572e4d47f0b05995b5bfb5f831",
       "style": "IPY_MODEL_dd30ea2fffd54598917fdb5ec649d1fd",
       "value": "Movies from 2019: 100%"
      }
     },
     "642b235669ca40af9dc2a78b69d27c3e": {
      "model_module": "@jupyter-widgets/base",
      "model_module_version": "2.0.0",
      "model_name": "LayoutModel",
      "state": {}
     },
     "669bafa9e8274b0db4d3a0e24a63431f": {
      "model_module": "@jupyter-widgets/controls",
      "model_module_version": "2.0.0",
      "model_name": "HTMLModel",
      "state": {
       "layout": "IPY_MODEL_a750cce797174aaa9e3bc16d3187591a",
       "style": "IPY_MODEL_34dd498a7f37405996b0c8c6beb99b1f",
       "value": "Movies from 2020: 100%"
      }
     },
     "67014acaff1a4f27ba06cd46bed3bd58": {
      "model_module": "@jupyter-widgets/controls",
      "model_module_version": "2.0.0",
      "model_name": "HTMLModel",
      "state": {
       "layout": "IPY_MODEL_3aa5e5a61cc643228a870e70b1665a99",
       "style": "IPY_MODEL_5ed9db0be6024021b66ff87a506b57db",
       "value": " 5256/5256 [1:17:25&lt;00:00,  1.01s/it]"
      }
     },
     "67a6520bb0f0439d97e63eb6bca07894": {
      "model_module": "@jupyter-widgets/controls",
      "model_module_version": "2.0.0",
      "model_name": "HTMLStyleModel",
      "state": {
       "description_width": "",
       "font_size": null,
       "text_color": null
      }
     },
     "6b0f97208ac747cbaffe75be9415866e": {
      "model_module": "@jupyter-widgets/controls",
      "model_module_version": "2.0.0",
      "model_name": "HTMLStyleModel",
      "state": {
       "description_width": "",
       "font_size": null,
       "text_color": null
      }
     },
     "6b3cb88edbe34059b9fceb3360faf1bb": {
      "model_module": "@jupyter-widgets/controls",
      "model_module_version": "2.0.0",
      "model_name": "FloatProgressModel",
      "state": {
       "bar_style": "success",
       "layout": "IPY_MODEL_2dfec7668ec4462ab67626fd1b9c89e9",
       "max": 2912,
       "style": "IPY_MODEL_35cd2cf9a8af4c9c9583353b47d9149f",
       "value": 2912
      }
     },
     "6c0ebb6338d2421eac9aa61187682119": {
      "model_module": "@jupyter-widgets/base",
      "model_module_version": "2.0.0",
      "model_name": "LayoutModel",
      "state": {}
     },
     "6cd8df8d877d4c1f97d6aecd66b08896": {
      "model_module": "@jupyter-widgets/base",
      "model_module_version": "2.0.0",
      "model_name": "LayoutModel",
      "state": {}
     },
     "6ce0a529059f4c93ad83e39e87fa45bb": {
      "model_module": "@jupyter-widgets/controls",
      "model_module_version": "2.0.0",
      "model_name": "HTMLModel",
      "state": {
       "layout": "IPY_MODEL_d40cc3aa415c43ea92e48f769df4bcf7",
       "style": "IPY_MODEL_888aa3b06d924f31a3d9b0e5ad0aff5f",
       "value": "Movies from 2022: 100%"
      }
     },
     "6eb9fa5f708a490990afc857a0c3e7c1": {
      "model_module": "@jupyter-widgets/base",
      "model_module_version": "2.0.0",
      "model_name": "LayoutModel",
      "state": {}
     },
     "6ee0fc2bef8b4a36b11925db1377edc8": {
      "model_module": "@jupyter-widgets/base",
      "model_module_version": "2.0.0",
      "model_name": "LayoutModel",
      "state": {}
     },
     "6ef86336eac446baaff535da70a854dd": {
      "model_module": "@jupyter-widgets/controls",
      "model_module_version": "2.0.0",
      "model_name": "HTMLModel",
      "state": {
       "layout": "IPY_MODEL_be9b47bfce054b0084463ac3f92c8b62",
       "style": "IPY_MODEL_894b34fe9cfb4d7ab3f16fabb35964cb",
       "value": "YEARS: 100%"
      }
     },
     "709e9fdc954d44d3bbb07b66a3727925": {
      "model_module": "@jupyter-widgets/controls",
      "model_module_version": "2.0.0",
      "model_name": "HBoxModel",
      "state": {
       "children": [
        "IPY_MODEL_4183b948e802464aa62f91c2566ac502",
        "IPY_MODEL_f9645b409b1e461481a8611eace6a94a",
        "IPY_MODEL_460aad3a3bac4ef78c1cbd8f2761bcc3"
       ],
       "layout": "IPY_MODEL_47a80112d56440c59c69d8cee0649def"
      }
     },
     "71cd4579ae3e42109be44ab1524ba36e": {
      "model_module": "@jupyter-widgets/controls",
      "model_module_version": "2.0.0",
      "model_name": "FloatProgressModel",
      "state": {
       "bar_style": "danger",
       "layout": "IPY_MODEL_9e3bf1c5898c49dba2c19353b332f101",
       "max": 9,
       "style": "IPY_MODEL_da33d93c2a4947d297024ac5e4c29a85",
       "value": 8
      }
     },
     "721aa4011d4c48de910fa637e8949fad": {
      "model_module": "@jupyter-widgets/base",
      "model_module_version": "2.0.0",
      "model_name": "LayoutModel",
      "state": {}
     },
     "75a9342dffc04384a13f3d093836880a": {
      "model_module": "@jupyter-widgets/controls",
      "model_module_version": "2.0.0",
      "model_name": "HTMLModel",
      "state": {
       "layout": "IPY_MODEL_b610118802094c80b82e54c660812b8a",
       "style": "IPY_MODEL_f1d853e904cc438db6ac79648c30d830",
       "value": "YEARS:  89%"
      }
     },
     "76689fb5f60f46fcb5de34e5190069ba": {
      "model_module": "@jupyter-widgets/controls",
      "model_module_version": "2.0.0",
      "model_name": "FloatProgressModel",
      "state": {
       "bar_style": "success",
       "layout": "IPY_MODEL_aeb4402393924e4aa093151122621f2d",
       "max": 1457,
       "style": "IPY_MODEL_9519cff2a6124614a4d16f0dce6c33c6",
       "value": 1457
      }
     },
     "76696d407a814043bdd2ee03f64acdd7": {
      "model_module": "@jupyter-widgets/controls",
      "model_module_version": "2.0.0",
      "model_name": "HTMLModel",
      "state": {
       "layout": "IPY_MODEL_e78cc243cab24ce6acbe1c5ce76ce133",
       "style": "IPY_MODEL_5fd12ca6a2cf4338925de2ae1c0794b4",
       "value": "Movies from 2009: 100%"
      }
     },
     "76d3562311ea430bb7ca8316d8df0b1c": {
      "model_module": "@jupyter-widgets/controls",
      "model_module_version": "2.0.0",
      "model_name": "ProgressStyleModel",
      "state": {
       "description_width": ""
      }
     },
     "778995cde20e41fc83e96a3f5587ab1c": {
      "model_module": "@jupyter-widgets/controls",
      "model_module_version": "2.0.0",
      "model_name": "HBoxModel",
      "state": {
       "children": [
        "IPY_MODEL_5c6e533b2f2d44baad673c27da5d66ec",
        "IPY_MODEL_f06dc5630bf54ef4a1f43b3e6f38fd63",
        "IPY_MODEL_517baa703a6e4c4a80ca153d76ac2dc3"
       ],
       "layout": "IPY_MODEL_b258c76098284b778c03ebc171fdd4d6"
      }
     },
     "77ce99aaeac64380b78ec132dc98797a": {
      "model_module": "@jupyter-widgets/base",
      "model_module_version": "2.0.0",
      "model_name": "LayoutModel",
      "state": {}
     },
     "7ad622e3ec4d4e10a6ce9257eef3d516": {
      "model_module": "@jupyter-widgets/controls",
      "model_module_version": "2.0.0",
      "model_name": "FloatProgressModel",
      "state": {
       "bar_style": "success",
       "layout": "IPY_MODEL_e4731fe67d0f49c895e2d9b10e70fbd8",
       "max": 1,
       "style": "IPY_MODEL_ef4f1eebaf9b4a35b4bdac086f196c79",
       "value": 1
      }
     },
     "7c0bfdcc6866445bbfd9f3a568eabb9a": {
      "model_module": "@jupyter-widgets/controls",
      "model_module_version": "2.0.0",
      "model_name": "ProgressStyleModel",
      "state": {
       "description_width": ""
      }
     },
     "7cf9b668547c4feb9cd86d1e88147911": {
      "model_module": "@jupyter-widgets/base",
      "model_module_version": "2.0.0",
      "model_name": "LayoutModel",
      "state": {}
     },
     "7e46c0d0a54b4b1f8f30add2a307c51c": {
      "model_module": "@jupyter-widgets/controls",
      "model_module_version": "2.0.0",
      "model_name": "HTMLModel",
      "state": {
       "layout": "IPY_MODEL_cc54f8536b4247cd9650468d2db9066f",
       "style": "IPY_MODEL_370ec5d2a89d4cd39d9efab7700cb55e",
       "value": " 1457/1457 [11:54&lt;00:00,  4.08it/s]"
      }
     },
     "805e19bb3c954d24bcfebf7c11d24714": {
      "model_module": "@jupyter-widgets/base",
      "model_module_version": "2.0.0",
      "model_name": "LayoutModel",
      "state": {}
     },
     "8085025c406c4aed99ae06a16bb6dbef": {
      "model_module": "@jupyter-widgets/base",
      "model_module_version": "2.0.0",
      "model_name": "LayoutModel",
      "state": {}
     },
     "81aa35f6f7af4c6cbda0383d2a00ea3e": {
      "model_module": "@jupyter-widgets/controls",
      "model_module_version": "2.0.0",
      "model_name": "ProgressStyleModel",
      "state": {
       "description_width": ""
      }
     },
     "8473dad3621741968923cbb42f7774af": {
      "model_module": "@jupyter-widgets/base",
      "model_module_version": "2.0.0",
      "model_name": "LayoutModel",
      "state": {}
     },
     "85bebd9b653f4f9ca5d7f04b94cead7f": {
      "model_module": "@jupyter-widgets/base",
      "model_module_version": "2.0.0",
      "model_name": "LayoutModel",
      "state": {}
     },
     "86fef0359547447fb73d8b6d8f475d18": {
      "model_module": "@jupyter-widgets/controls",
      "model_module_version": "2.0.0",
      "model_name": "HTMLStyleModel",
      "state": {
       "description_width": "",
       "font_size": null,
       "text_color": null
      }
     },
     "87c233c18b2f429b95507b808bcb05ed": {
      "model_module": "@jupyter-widgets/base",
      "model_module_version": "2.0.0",
      "model_name": "LayoutModel",
      "state": {}
     },
     "883cf17c550e43979fcb541e26cb08f2": {
      "model_module": "@jupyter-widgets/controls",
      "model_module_version": "2.0.0",
      "model_name": "HTMLStyleModel",
      "state": {
       "description_width": "",
       "font_size": null,
       "text_color": null
      }
     },
     "8866591a418d4e7ca66bdee21b30c5cf": {
      "model_module": "@jupyter-widgets/controls",
      "model_module_version": "2.0.0",
      "model_name": "HBoxModel",
      "state": {
       "children": [
        "IPY_MODEL_c91bd54fc86f4be7ae693312a2326136",
        "IPY_MODEL_8def4da2d144427dbc517211719649d4",
        "IPY_MODEL_959fce1466ce40a29a34dd8889ac42b4"
       ],
       "layout": "IPY_MODEL_6cd8df8d877d4c1f97d6aecd66b08896"
      }
     },
     "888aa3b06d924f31a3d9b0e5ad0aff5f": {
      "model_module": "@jupyter-widgets/controls",
      "model_module_version": "2.0.0",
      "model_name": "HTMLStyleModel",
      "state": {
       "description_width": "",
       "font_size": null,
       "text_color": null
      }
     },
     "894b34fe9cfb4d7ab3f16fabb35964cb": {
      "model_module": "@jupyter-widgets/controls",
      "model_module_version": "2.0.0",
      "model_name": "HTMLStyleModel",
      "state": {
       "description_width": "",
       "font_size": null,
       "text_color": null
      }
     },
     "8a7cc2e0f89043aba219ad0a5363f5a2": {
      "model_module": "@jupyter-widgets/base",
      "model_module_version": "2.0.0",
      "model_name": "LayoutModel",
      "state": {}
     },
     "8d8e4f06b1f34f7a98c347573c137781": {
      "model_module": "@jupyter-widgets/controls",
      "model_module_version": "2.0.0",
      "model_name": "HTMLModel",
      "state": {
       "layout": "IPY_MODEL_6c0ebb6338d2421eac9aa61187682119",
       "style": "IPY_MODEL_2d564e9a36654dc7a8b8fb641a24aa84",
       "value": " 2579/2579 [23:16&lt;00:00,  1.78it/s]"
      }
     },
     "8def4da2d144427dbc517211719649d4": {
      "model_module": "@jupyter-widgets/controls",
      "model_module_version": "2.0.0",
      "model_name": "FloatProgressModel",
      "state": {
       "bar_style": "success",
       "layout": "IPY_MODEL_1337f77d647846718c81320e945ad283",
       "max": 4917,
       "style": "IPY_MODEL_5420683573ed4d6b99f9bda1da016c88",
       "value": 4917
      }
     },
     "8ea098590f78445d84cf3f8dda29d03d": {
      "model_module": "@jupyter-widgets/controls",
      "model_module_version": "2.0.0",
      "model_name": "ProgressStyleModel",
      "state": {
       "description_width": ""
      }
     },
     "91a455d885a5481592e7b930d5aee55e": {
      "model_module": "@jupyter-widgets/base",
      "model_module_version": "2.0.0",
      "model_name": "LayoutModel",
      "state": {}
     },
     "923cd6062895415eaec024b513fb072c": {
      "model_module": "@jupyter-widgets/controls",
      "model_module_version": "2.0.0",
      "model_name": "HBoxModel",
      "state": {
       "children": [
        "IPY_MODEL_6ef86336eac446baaff535da70a854dd",
        "IPY_MODEL_fc27d281a40848ac9bb24b0765b5478b",
        "IPY_MODEL_dedbdfadd82e437aa6fbcbcdc8b9474f"
       ],
       "layout": "IPY_MODEL_258bf1dadd24491b958942175fda97d5"
      }
     },
     "936b121e1e0d46b0b6bbede5c3537e3c": {
      "model_module": "@jupyter-widgets/base",
      "model_module_version": "2.0.0",
      "model_name": "LayoutModel",
      "state": {}
     },
     "94d2ee15f097487a97cd0ed9bd288edf": {
      "model_module": "@jupyter-widgets/controls",
      "model_module_version": "2.0.0",
      "model_name": "HTMLModel",
      "state": {
       "layout": "IPY_MODEL_317cec251acd4a258b93833d8c265e7d",
       "style": "IPY_MODEL_58a215c453564342bd2fee3e1c541070",
       "value": " 5073/5073 [1:17:39&lt;00:00,  1.09s/it]"
      }
     },
     "94dd1a2b428942ddb69975b5c2c32803": {
      "model_module": "@jupyter-widgets/base",
      "model_module_version": "2.0.0",
      "model_name": "LayoutModel",
      "state": {}
     },
     "9519cff2a6124614a4d16f0dce6c33c6": {
      "model_module": "@jupyter-widgets/controls",
      "model_module_version": "2.0.0",
      "model_name": "ProgressStyleModel",
      "state": {
       "description_width": ""
      }
     },
     "959fce1466ce40a29a34dd8889ac42b4": {
      "model_module": "@jupyter-widgets/controls",
      "model_module_version": "2.0.0",
      "model_name": "HTMLModel",
      "state": {
       "layout": "IPY_MODEL_0eaac931a60c400880f25db9da0d4f14",
       "style": "IPY_MODEL_b120b9003e794db2a320f876c449e06e",
       "value": " 4917/4917 [1:10:22&lt;00:00,  2.89it/s]"
      }
     },
     "9768155d167a47bab87cf0266ac97361": {
      "model_module": "@jupyter-widgets/controls",
      "model_module_version": "2.0.0",
      "model_name": "ProgressStyleModel",
      "state": {
       "description_width": ""
      }
     },
     "97d92b5b18204f73ac54be6591ffdd7f": {
      "model_module": "@jupyter-widgets/base",
      "model_module_version": "2.0.0",
      "model_name": "LayoutModel",
      "state": {}
     },
     "981741b77aad4a3ba675ffc2227b7cd1": {
      "model_module": "@jupyter-widgets/controls",
      "model_module_version": "2.0.0",
      "model_name": "FloatProgressModel",
      "state": {
       "bar_style": "success",
       "layout": "IPY_MODEL_60e312f57d214fa8beb22a7d8f2b77d4",
       "max": 4522,
       "style": "IPY_MODEL_81aa35f6f7af4c6cbda0383d2a00ea3e",
       "value": 4522
      }
     },
     "984d219ff5b0409495c63abd48fa2343": {
      "model_module": "@jupyter-widgets/controls",
      "model_module_version": "2.0.0",
      "model_name": "HBoxModel",
      "state": {
       "children": [
        "IPY_MODEL_4a32294574104c8ca32e6b6da62f979f",
        "IPY_MODEL_dd6c59263e7c4486948baea9b71eeb54",
        "IPY_MODEL_f7a318a3868a46c4884dd042720071a1"
       ],
       "layout": "IPY_MODEL_936b121e1e0d46b0b6bbede5c3537e3c"
      }
     },
     "988187b7f31c46e28e3999cec70352a3": {
      "model_module": "@jupyter-widgets/controls",
      "model_module_version": "2.0.0",
      "model_name": "HBoxModel",
      "state": {
       "children": [
        "IPY_MODEL_214e18f2be57442ca1610f0d2130a4e6",
        "IPY_MODEL_5bd6eb015bec4a0cb312182ca4a0c3e5",
        "IPY_MODEL_a7fa56e9a1af4593b6a7f81dda1667b2"
       ],
       "layout": "IPY_MODEL_ce48abc0833d4e4e93ad53b90827a3ab"
      }
     },
     "98f3626dc83e4ba2b9ac8fc43b1dbdf7": {
      "model_module": "@jupyter-widgets/base",
      "model_module_version": "2.0.0",
      "model_name": "LayoutModel",
      "state": {}
     },
     "9bbabce53022467c936c2cdcde0d379e": {
      "model_module": "@jupyter-widgets/base",
      "model_module_version": "2.0.0",
      "model_name": "LayoutModel",
      "state": {}
     },
     "9bd8165f18eb43db8146cb59926a1d07": {
      "model_module": "@jupyter-widgets/controls",
      "model_module_version": "2.0.0",
      "model_name": "HTMLStyleModel",
      "state": {
       "description_width": "",
       "font_size": null,
       "text_color": null
      }
     },
     "9df04a7da75849cfae79a2c936c4e61a": {
      "model_module": "@jupyter-widgets/controls",
      "model_module_version": "2.0.0",
      "model_name": "FloatProgressModel",
      "state": {
       "bar_style": "success",
       "layout": "IPY_MODEL_0209eb21d8f64089bbd990de05b833be",
       "max": 1687,
       "style": "IPY_MODEL_00cb6377c575462ab73d83f40026c245",
       "value": 1687
      }
     },
     "9e3232fefe0f48f49bd7085060b165a7": {
      "model_module": "@jupyter-widgets/base",
      "model_module_version": "2.0.0",
      "model_name": "LayoutModel",
      "state": {}
     },
     "9e3bf1c5898c49dba2c19353b332f101": {
      "model_module": "@jupyter-widgets/base",
      "model_module_version": "2.0.0",
      "model_name": "LayoutModel",
      "state": {}
     },
     "9f13e2c4db3a4f10a2692e1287877beb": {
      "model_module": "@jupyter-widgets/base",
      "model_module_version": "2.0.0",
      "model_name": "LayoutModel",
      "state": {}
     },
     "9f339c22c22f46a481454afdc00cd667": {
      "model_module": "@jupyter-widgets/base",
      "model_module_version": "2.0.0",
      "model_name": "LayoutModel",
      "state": {}
     },
     "a352a2c545f5485184ec085187105a64": {
      "model_module": "@jupyter-widgets/controls",
      "model_module_version": "2.0.0",
      "model_name": "HBoxModel",
      "state": {
       "children": [
        "IPY_MODEL_2a3771b1deba45d8b8b0c0c295f14548",
        "IPY_MODEL_34bb202b8e3049499477ef16dd28b5a6",
        "IPY_MODEL_1bd44de24e444cb7bb303a2e4a8d9a2c"
       ],
       "layout": "IPY_MODEL_da1c8871f65747dab058483d05eff039"
      }
     },
     "a51f845384a44f51ac707e4818197235": {
      "model_module": "@jupyter-widgets/base",
      "model_module_version": "2.0.0",
      "model_name": "LayoutModel",
      "state": {}
     },
     "a5c4d97dd0834805ae3ce06b5f27ad7b": {
      "model_module": "@jupyter-widgets/base",
      "model_module_version": "2.0.0",
      "model_name": "LayoutModel",
      "state": {}
     },
     "a5cd5cb7f88741d5b8a98c562a95531b": {
      "model_module": "@jupyter-widgets/controls",
      "model_module_version": "2.0.0",
      "model_name": "FloatProgressModel",
      "state": {
       "bar_style": "success",
       "layout": "IPY_MODEL_ced54cdddabb48cb9ca9acb8f5da8563",
       "max": 5256,
       "style": "IPY_MODEL_7c0bfdcc6866445bbfd9f3a568eabb9a",
       "value": 5256
      }
     },
     "a70fba75001c4639b49f371ec653d37b": {
      "model_module": "@jupyter-widgets/controls",
      "model_module_version": "2.0.0",
      "model_name": "HTMLStyleModel",
      "state": {
       "description_width": "",
       "font_size": null,
       "text_color": null
      }
     },
     "a750cce797174aaa9e3bc16d3187591a": {
      "model_module": "@jupyter-widgets/base",
      "model_module_version": "2.0.0",
      "model_name": "LayoutModel",
      "state": {}
     },
     "a7bda592de7543438bd3d571802103d1": {
      "model_module": "@jupyter-widgets/controls",
      "model_module_version": "2.0.0",
      "model_name": "HBoxModel",
      "state": {
       "children": [
        "IPY_MODEL_76696d407a814043bdd2ee03f64acdd7",
        "IPY_MODEL_3e85f70ae9dc4c46b5b4863f356784d8",
        "IPY_MODEL_bd02fd2adb5c4919920d8f336759c8e9"
       ],
       "layout": "IPY_MODEL_9e3232fefe0f48f49bd7085060b165a7"
      }
     },
     "a7fa56e9a1af4593b6a7f81dda1667b2": {
      "model_module": "@jupyter-widgets/controls",
      "model_module_version": "2.0.0",
      "model_name": "HTMLModel",
      "state": {
       "layout": "IPY_MODEL_f826aeba51c848e7a9a5c9a42dc955af",
       "style": "IPY_MODEL_b4fd0d5a1db140978774d6c2153b7c51",
       "value": " 4229/4229 [39:05&lt;00:00,  2.38it/s]"
      }
     },
     "a8596d304e5d4df68fb981da9364b76f": {
      "model_module": "@jupyter-widgets/controls",
      "model_module_version": "2.0.0",
      "model_name": "ProgressStyleModel",
      "state": {
       "description_width": ""
      }
     },
     "a88d5fca52e241668e29753ac3d6fc9d": {
      "model_module": "@jupyter-widgets/controls",
      "model_module_version": "2.0.0",
      "model_name": "HTMLModel",
      "state": {
       "layout": "IPY_MODEL_fd9784c4f9c1479a974a80caf01becd2",
       "style": "IPY_MODEL_bb500d6aa8fd4094a86652d6daa8aa49",
       "value": "Movies from 2003: 100%"
      }
     },
     "aa05867b05e141729d37a89546ed509c": {
      "model_module": "@jupyter-widgets/controls",
      "model_module_version": "2.0.0",
      "model_name": "FloatProgressModel",
      "state": {
       "bar_style": "success",
       "layout": "IPY_MODEL_98f3626dc83e4ba2b9ac8fc43b1dbdf7",
       "max": 5877,
       "style": "IPY_MODEL_096647920e1d421fa00d91b417404acb",
       "value": 5877
      }
     },
     "aa575da9e11e43cfa0271ef8f5fcaeb5": {
      "model_module": "@jupyter-widgets/base",
      "model_module_version": "2.0.0",
      "model_name": "LayoutModel",
      "state": {}
     },
     "ad60833729154c829fd1ea1688c4cb22": {
      "model_module": "@jupyter-widgets/controls",
      "model_module_version": "2.0.0",
      "model_name": "HBoxModel",
      "state": {
       "children": [
        "IPY_MODEL_ce3c97013d684743b8f2d2827904a5ee",
        "IPY_MODEL_7ad622e3ec4d4e10a6ce9257eef3d516",
        "IPY_MODEL_331ff732a1354995978389e302bb0f69"
       ],
       "layout": "IPY_MODEL_dc5ed2e8b1744d11a71524c0f89c1747"
      }
     },
     "ad9a0fc7f1b94b9584b4eb31d06e9679": {
      "model_module": "@jupyter-widgets/controls",
      "model_module_version": "2.0.0",
      "model_name": "ProgressStyleModel",
      "state": {
       "description_width": ""
      }
     },
     "adafea1cbf6743188b38c33aae9abac0": {
      "model_module": "@jupyter-widgets/controls",
      "model_module_version": "2.0.0",
      "model_name": "HTMLStyleModel",
      "state": {
       "description_width": "",
       "font_size": null,
       "text_color": null
      }
     },
     "add0455904214312977d87bbb9b18f5d": {
      "model_module": "@jupyter-widgets/base",
      "model_module_version": "2.0.0",
      "model_name": "LayoutModel",
      "state": {}
     },
     "ae076e0f4dec431fbbdca28cbc888829": {
      "model_module": "@jupyter-widgets/base",
      "model_module_version": "2.0.0",
      "model_name": "LayoutModel",
      "state": {}
     },
     "aeb4402393924e4aa093151122621f2d": {
      "model_module": "@jupyter-widgets/base",
      "model_module_version": "2.0.0",
      "model_name": "LayoutModel",
      "state": {}
     },
     "afbea274b484459a8ade35413e5a1cd0": {
      "model_module": "@jupyter-widgets/controls",
      "model_module_version": "2.0.0",
      "model_name": "HBoxModel",
      "state": {
       "children": [
        "IPY_MODEL_e1de814d04cc415098323141a4abfbb8",
        "IPY_MODEL_981741b77aad4a3ba675ffc2227b7cd1",
        "IPY_MODEL_083b060b8c304c99aaa3407561e4a180"
       ],
       "layout": "IPY_MODEL_97d92b5b18204f73ac54be6591ffdd7f"
      }
     },
     "aff3b5cbf9ce4186ab3dce6b0a6ea65e": {
      "model_module": "@jupyter-widgets/base",
      "model_module_version": "2.0.0",
      "model_name": "LayoutModel",
      "state": {}
     },
     "b120b9003e794db2a320f876c449e06e": {
      "model_module": "@jupyter-widgets/controls",
      "model_module_version": "2.0.0",
      "model_name": "HTMLStyleModel",
      "state": {
       "description_width": "",
       "font_size": null,
       "text_color": null
      }
     },
     "b258c76098284b778c03ebc171fdd4d6": {
      "model_module": "@jupyter-widgets/base",
      "model_module_version": "2.0.0",
      "model_name": "LayoutModel",
      "state": {}
     },
     "b45e14d0102847ee8c2f7343544f79b6": {
      "model_module": "@jupyter-widgets/base",
      "model_module_version": "2.0.0",
      "model_name": "LayoutModel",
      "state": {}
     },
     "b4780feb869a4d9abacf1ab104a8fc23": {
      "model_module": "@jupyter-widgets/base",
      "model_module_version": "2.0.0",
      "model_name": "LayoutModel",
      "state": {}
     },
     "b4fd0d5a1db140978774d6c2153b7c51": {
      "model_module": "@jupyter-widgets/controls",
      "model_module_version": "2.0.0",
      "model_name": "HTMLStyleModel",
      "state": {
       "description_width": "",
       "font_size": null,
       "text_color": null
      }
     },
     "b5f7cd680058437facaab6dc979db755": {
      "model_module": "@jupyter-widgets/controls",
      "model_module_version": "2.0.0",
      "model_name": "HTMLStyleModel",
      "state": {
       "description_width": "",
       "font_size": null,
       "text_color": null
      }
     },
     "b610118802094c80b82e54c660812b8a": {
      "model_module": "@jupyter-widgets/base",
      "model_module_version": "2.0.0",
      "model_name": "LayoutModel",
      "state": {}
     },
     "b82f3f5aa3d742d4aa53c56cec7e3672": {
      "model_module": "@jupyter-widgets/controls",
      "model_module_version": "2.0.0",
      "model_name": "HTMLStyleModel",
      "state": {
       "description_width": "",
       "font_size": null,
       "text_color": null
      }
     },
     "b942900e025c4a578f4e09cb3f54208d": {
      "model_module": "@jupyter-widgets/controls",
      "model_module_version": "2.0.0",
      "model_name": "HTMLStyleModel",
      "state": {
       "description_width": "",
       "font_size": null,
       "text_color": null
      }
     },
     "b97790c20f41497b9129abca197dd910": {
      "model_module": "@jupyter-widgets/base",
      "model_module_version": "2.0.0",
      "model_name": "LayoutModel",
      "state": {}
     },
     "bb500d6aa8fd4094a86652d6daa8aa49": {
      "model_module": "@jupyter-widgets/controls",
      "model_module_version": "2.0.0",
      "model_name": "HTMLStyleModel",
      "state": {
       "description_width": "",
       "font_size": null,
       "text_color": null
      }
     },
     "bb72b7572e4d47f0b05995b5bfb5f831": {
      "model_module": "@jupyter-widgets/base",
      "model_module_version": "2.0.0",
      "model_name": "LayoutModel",
      "state": {}
     },
     "bc31790d86b04ba9a318b71766973321": {
      "model_module": "@jupyter-widgets/controls",
      "model_module_version": "2.0.0",
      "model_name": "HTMLModel",
      "state": {
       "layout": "IPY_MODEL_87c233c18b2f429b95507b808bcb05ed",
       "style": "IPY_MODEL_b82f3f5aa3d742d4aa53c56cec7e3672",
       "value": "Movies from 2022: 100%"
      }
     },
     "bd02fd2adb5c4919920d8f336759c8e9": {
      "model_module": "@jupyter-widgets/controls",
      "model_module_version": "2.0.0",
      "model_name": "HTMLModel",
      "state": {
       "layout": "IPY_MODEL_94dd1a2b428942ddb69975b5c2c32803",
       "style": "IPY_MODEL_fe4e29d1d03f4edea3dca0ba022e9031",
       "value": " 3560/3560 [32:04&lt;00:00,  3.07it/s]"
      }
     },
     "bda85c98932e4ccbbe737429b566185d": {
      "model_module": "@jupyter-widgets/controls",
      "model_module_version": "2.0.0",
      "model_name": "HBoxModel",
      "state": {
       "children": [
        "IPY_MODEL_4bf017e3d10c428b9f72842120e1ebb9",
        "IPY_MODEL_411736e1b6634c42a029fbf40bdd2cf3",
        "IPY_MODEL_5fb6d0fbb1b94b1682a91391bdd10dd1"
       ],
       "layout": "IPY_MODEL_c97b047b1e4b4ab8b34f69d634068db4"
      }
     },
     "be9b47bfce054b0084463ac3f92c8b62": {
      "model_module": "@jupyter-widgets/base",
      "model_module_version": "2.0.0",
      "model_name": "LayoutModel",
      "state": {}
     },
     "c060c50dd73d4973892af15b44e82f14": {
      "model_module": "@jupyter-widgets/base",
      "model_module_version": "2.0.0",
      "model_name": "LayoutModel",
      "state": {}
     },
     "c3ce8ad84fa3472e923e97533483f303": {
      "model_module": "@jupyter-widgets/base",
      "model_module_version": "2.0.0",
      "model_name": "LayoutModel",
      "state": {}
     },
     "c91bd54fc86f4be7ae693312a2326136": {
      "model_module": "@jupyter-widgets/controls",
      "model_module_version": "2.0.0",
      "model_name": "HTMLModel",
      "state": {
       "layout": "IPY_MODEL_dbf28a579ae742d1906520c36d675d26",
       "style": "IPY_MODEL_b942900e025c4a578f4e09cb3f54208d",
       "value": "Movies from 2014: 100%"
      }
     },
     "c956f8aff7684f0b84bc0d5245656cce": {
      "model_module": "@jupyter-widgets/base",
      "model_module_version": "2.0.0",
      "model_name": "LayoutModel",
      "state": {}
     },
     "c97b047b1e4b4ab8b34f69d634068db4": {
      "model_module": "@jupyter-widgets/base",
      "model_module_version": "2.0.0",
      "model_name": "LayoutModel",
      "state": {}
     },
     "ca6911a1545848e0bfe7e7820e7c399c": {
      "model_module": "@jupyter-widgets/base",
      "model_module_version": "2.0.0",
      "model_name": "LayoutModel",
      "state": {}
     },
     "cc0c8939c2344e36b0ce0b30a4171115": {
      "model_module": "@jupyter-widgets/controls",
      "model_module_version": "2.0.0",
      "model_name": "ProgressStyleModel",
      "state": {
       "description_width": ""
      }
     },
     "cc54f8536b4247cd9650468d2db9066f": {
      "model_module": "@jupyter-widgets/base",
      "model_module_version": "2.0.0",
      "model_name": "LayoutModel",
      "state": {}
     },
     "cdcfeafe931e4768bbaae1ff72514a47": {
      "model_module": "@jupyter-widgets/base",
      "model_module_version": "2.0.0",
      "model_name": "LayoutModel",
      "state": {}
     },
     "ce3c97013d684743b8f2d2827904a5ee": {
      "model_module": "@jupyter-widgets/controls",
      "model_module_version": "2.0.0",
      "model_name": "HTMLModel",
      "state": {
       "layout": "IPY_MODEL_642b235669ca40af9dc2a78b69d27c3e",
       "style": "IPY_MODEL_6b0f97208ac747cbaffe75be9415866e",
       "value": "YEARS: 100%"
      }
     },
     "ce48abc0833d4e4e93ad53b90827a3ab": {
      "model_module": "@jupyter-widgets/base",
      "model_module_version": "2.0.0",
      "model_name": "LayoutModel",
      "state": {}
     },
     "ced54cdddabb48cb9ca9acb8f5da8563": {
      "model_module": "@jupyter-widgets/base",
      "model_module_version": "2.0.0",
      "model_name": "LayoutModel",
      "state": {}
     },
     "d0297550d5044a59abf9061e595f3afc": {
      "model_module": "@jupyter-widgets/base",
      "model_module_version": "2.0.0",
      "model_name": "LayoutModel",
      "state": {}
     },
     "d40cc3aa415c43ea92e48f769df4bcf7": {
      "model_module": "@jupyter-widgets/base",
      "model_module_version": "2.0.0",
      "model_name": "LayoutModel",
      "state": {}
     },
     "d740416331ad4a6692a06f0fa099b08c": {
      "model_module": "@jupyter-widgets/controls",
      "model_module_version": "2.0.0",
      "model_name": "HTMLStyleModel",
      "state": {
       "description_width": "",
       "font_size": null,
       "text_color": null
      }
     },
     "d8b78d19e12048fba219520674192fe6": {
      "model_module": "@jupyter-widgets/controls",
      "model_module_version": "2.0.0",
      "model_name": "HTMLModel",
      "state": {
       "layout": "IPY_MODEL_3f65e04bc44549be88171093d454650c",
       "style": "IPY_MODEL_f81e6591c0c345b6b1239b4da2acec25",
       "value": " 2440/2440 [21:00&lt;00:00,  2.75it/s]"
      }
     },
     "da1c8871f65747dab058483d05eff039": {
      "model_module": "@jupyter-widgets/base",
      "model_module_version": "2.0.0",
      "model_name": "LayoutModel",
      "state": {}
     },
     "da33d93c2a4947d297024ac5e4c29a85": {
      "model_module": "@jupyter-widgets/controls",
      "model_module_version": "2.0.0",
      "model_name": "ProgressStyleModel",
      "state": {
       "description_width": ""
      }
     },
     "da405f0eb5e54dde9d1e72289c5dc1c7": {
      "model_module": "@jupyter-widgets/controls",
      "model_module_version": "2.0.0",
      "model_name": "HBoxModel",
      "state": {
       "children": [
        "IPY_MODEL_a88d5fca52e241668e29753ac3d6fc9d",
        "IPY_MODEL_9df04a7da75849cfae79a2c936c4e61a",
        "IPY_MODEL_5c31775db6334a92841d27474ebce79c"
       ],
       "layout": "IPY_MODEL_8473dad3621741968923cbb42f7774af"
      }
     },
     "da436f59815348979a0e52a88c474c31": {
      "model_module": "@jupyter-widgets/controls",
      "model_module_version": "2.0.0",
      "model_name": "HTMLStyleModel",
      "state": {
       "description_width": "",
       "font_size": null,
       "text_color": null
      }
     },
     "dbf28a579ae742d1906520c36d675d26": {
      "model_module": "@jupyter-widgets/base",
      "model_module_version": "2.0.0",
      "model_name": "LayoutModel",
      "state": {}
     },
     "dc5ed2e8b1744d11a71524c0f89c1747": {
      "model_module": "@jupyter-widgets/base",
      "model_module_version": "2.0.0",
      "model_name": "LayoutModel",
      "state": {}
     },
     "dd30ea2fffd54598917fdb5ec649d1fd": {
      "model_module": "@jupyter-widgets/controls",
      "model_module_version": "2.0.0",
      "model_name": "HTMLStyleModel",
      "state": {
       "description_width": "",
       "font_size": null,
       "text_color": null
      }
     },
     "dd32d5f950bb4ed78051da0e43cc6cfd": {
      "model_module": "@jupyter-widgets/controls",
      "model_module_version": "2.0.0",
      "model_name": "HTMLStyleModel",
      "state": {
       "description_width": "",
       "font_size": null,
       "text_color": null
      }
     },
     "dd54ddcb1745439db771c56b834f2981": {
      "model_module": "@jupyter-widgets/base",
      "model_module_version": "2.0.0",
      "model_name": "LayoutModel",
      "state": {}
     },
     "dd6c59263e7c4486948baea9b71eeb54": {
      "model_module": "@jupyter-widgets/controls",
      "model_module_version": "2.0.0",
      "model_name": "FloatProgressModel",
      "state": {
       "bar_style": "success",
       "layout": "IPY_MODEL_c060c50dd73d4973892af15b44e82f14",
       "max": 1904,
       "style": "IPY_MODEL_5a837b1d7db64aa880eb0180caaa7b44",
       "value": 1904
      }
     },
     "de753e81cf0b4074b5b70de6a8362406": {
      "model_module": "@jupyter-widgets/controls",
      "model_module_version": "2.0.0",
      "model_name": "HTMLModel",
      "state": {
       "layout": "IPY_MODEL_7cf9b668547c4feb9cd86d1e88147911",
       "style": "IPY_MODEL_67a6520bb0f0439d97e63eb6bca07894",
       "value": "Movies from 2016: 100%"
      }
     },
     "dedbdfadd82e437aa6fbcbcdc8b9474f": {
      "model_module": "@jupyter-widgets/controls",
      "model_module_version": "2.0.0",
      "model_name": "HTMLModel",
      "state": {
       "layout": "IPY_MODEL_2a34bc28124e453d9085570ae9ae1ab9",
       "style": "IPY_MODEL_da436f59815348979a0e52a88c474c31",
       "value": " 11/11 [3:47:18&lt;00:00, 1226.63s/it]"
      }
     },
     "e1de814d04cc415098323141a4abfbb8": {
      "model_module": "@jupyter-widgets/controls",
      "model_module_version": "2.0.0",
      "model_name": "HTMLModel",
      "state": {
       "layout": "IPY_MODEL_721aa4011d4c48de910fa637e8949fad",
       "style": "IPY_MODEL_a70fba75001c4639b49f371ec653d37b",
       "value": "Movies from 2012: 100%"
      }
     },
     "e275d6da74fd44dc9e7c31fe260ee5d6": {
      "model_module": "@jupyter-widgets/controls",
      "model_module_version": "2.0.0",
      "model_name": "HBoxModel",
      "state": {
       "children": [
        "IPY_MODEL_6ce0a529059f4c93ad83e39e87fa45bb",
        "IPY_MODEL_f8458bf7c6a74264831b5e8e45fe973b",
        "IPY_MODEL_94d2ee15f097487a97cd0ed9bd288edf"
       ],
       "layout": "IPY_MODEL_145cf93899074e848722fb536f553607"
      }
     },
     "e4731fe67d0f49c895e2d9b10e70fbd8": {
      "model_module": "@jupyter-widgets/base",
      "model_module_version": "2.0.0",
      "model_name": "LayoutModel",
      "state": {}
     },
     "e4f51a3b8b414a24a8016955ebd21abd": {
      "model_module": "@jupyter-widgets/base",
      "model_module_version": "2.0.0",
      "model_name": "LayoutModel",
      "state": {}
     },
     "e55aaa0ce21f4a25b07407658e7e6d80": {
      "model_module": "@jupyter-widgets/controls",
      "model_module_version": "2.0.0",
      "model_name": "HTMLModel",
      "state": {
       "layout": "IPY_MODEL_4020c51ddda340989c533acf9788e607",
       "style": "IPY_MODEL_2baacad1d0a64a598f7f18733ad4a973",
       "value": " 5877/5877 [1:45:29&lt;00:00,  1.14it/s]"
      }
     },
     "e66dba8f04ec4a97984edc94c4288174": {
      "model_module": "@jupyter-widgets/controls",
      "model_module_version": "2.0.0",
      "model_name": "HTMLStyleModel",
      "state": {
       "description_width": "",
       "font_size": null,
       "text_color": null
      }
     },
     "e6d5f249b9864730b44d7db1885d3d24": {
      "model_module": "@jupyter-widgets/controls",
      "model_module_version": "2.0.0",
      "model_name": "ProgressStyleModel",
      "state": {
       "description_width": ""
      }
     },
     "e752a23dfcc445d3a29a3f3b6019adcf": {
      "model_module": "@jupyter-widgets/base",
      "model_module_version": "2.0.0",
      "model_name": "LayoutModel",
      "state": {}
     },
     "e78cc243cab24ce6acbe1c5ce76ce133": {
      "model_module": "@jupyter-widgets/base",
      "model_module_version": "2.0.0",
      "model_name": "LayoutModel",
      "state": {}
     },
     "e9813d4fcb094edb94a74dc14d6880b3": {
      "model_module": "@jupyter-widgets/controls",
      "model_module_version": "2.0.0",
      "model_name": "HTMLStyleModel",
      "state": {
       "description_width": "",
       "font_size": null,
       "text_color": null
      }
     },
     "eb0391c7c31c43c2adbfb1639d15cffa": {
      "model_module": "@jupyter-widgets/base",
      "model_module_version": "2.0.0",
      "model_name": "LayoutModel",
      "state": {}
     },
     "ee134bf96aa84823a0ac3335b09d47ba": {
      "model_module": "@jupyter-widgets/controls",
      "model_module_version": "2.0.0",
      "model_name": "HTMLStyleModel",
      "state": {
       "description_width": "",
       "font_size": null,
       "text_color": null
      }
     },
     "ef4f1eebaf9b4a35b4bdac086f196c79": {
      "model_module": "@jupyter-widgets/controls",
      "model_module_version": "2.0.0",
      "model_name": "ProgressStyleModel",
      "state": {
       "description_width": ""
      }
     },
     "f06d1d67d4c944e2b39c5dad806cd600": {
      "model_module": "@jupyter-widgets/base",
      "model_module_version": "2.0.0",
      "model_name": "LayoutModel",
      "state": {}
     },
     "f06dc5630bf54ef4a1f43b3e6f38fd63": {
      "model_module": "@jupyter-widgets/controls",
      "model_module_version": "2.0.0",
      "model_name": "FloatProgressModel",
      "state": {
       "bar_style": "success",
       "layout": "IPY_MODEL_f580591038334e04b5558f397e81813d",
       "max": 5785,
       "style": "IPY_MODEL_e6d5f249b9864730b44d7db1885d3d24",
       "value": 5785
      }
     },
     "f0b8275dca0e4569a98559e6b7ed6b67": {
      "model_module": "@jupyter-widgets/controls",
      "model_module_version": "2.0.0",
      "model_name": "HTMLModel",
      "state": {
       "layout": "IPY_MODEL_1eecb3932f5c439c813989c3748c955f",
       "style": "IPY_MODEL_d740416331ad4a6692a06f0fa099b08c",
       "value": "Movies from 2008: 100%"
      }
     },
     "f1d853e904cc438db6ac79648c30d830": {
      "model_module": "@jupyter-widgets/controls",
      "model_module_version": "2.0.0",
      "model_name": "HTMLStyleModel",
      "state": {
       "description_width": "",
       "font_size": null,
       "text_color": null
      }
     },
     "f3652dc4079749cfa9373b008eea0bc9": {
      "model_module": "@jupyter-widgets/controls",
      "model_module_version": "2.0.0",
      "model_name": "HTMLModel",
      "state": {
       "layout": "IPY_MODEL_8085025c406c4aed99ae06a16bb6dbef",
       "style": "IPY_MODEL_e66dba8f04ec4a97984edc94c4288174",
       "value": " 4714/4714 [00:10&lt;00:00, 449.01it/s]"
      }
     },
     "f3f8ecb784e143aa8a3ddc185b2baa59": {
      "model_module": "@jupyter-widgets/controls",
      "model_module_version": "2.0.0",
      "model_name": "FloatProgressModel",
      "state": {
       "bar_style": "success",
       "layout": "IPY_MODEL_9f339c22c22f46a481454afdc00cd667",
       "max": 2579,
       "style": "IPY_MODEL_3785453b4a274c9db87812750234d4b1",
       "value": 2579
      }
     },
     "f558366204c046b69166c08b99a52e33": {
      "model_module": "@jupyter-widgets/controls",
      "model_module_version": "2.0.0",
      "model_name": "HTMLStyleModel",
      "state": {
       "description_width": "",
       "font_size": null,
       "text_color": null
      }
     },
     "f580591038334e04b5558f397e81813d": {
      "model_module": "@jupyter-widgets/base",
      "model_module_version": "2.0.0",
      "model_name": "LayoutModel",
      "state": {}
     },
     "f584bc4212374f4882573115bbb78063": {
      "model_module": "@jupyter-widgets/controls",
      "model_module_version": "2.0.0",
      "model_name": "FloatProgressModel",
      "state": {
       "bar_style": "success",
       "layout": "IPY_MODEL_91a455d885a5481592e7b930d5aee55e",
       "max": 2440,
       "style": "IPY_MODEL_9768155d167a47bab87cf0266ac97361",
       "value": 2440
      }
     },
     "f60c95ca1b7b4229bf12c3e0891f0c40": {
      "model_module": "@jupyter-widgets/controls",
      "model_module_version": "2.0.0",
      "model_name": "HTMLStyleModel",
      "state": {
       "description_width": "",
       "font_size": null,
       "text_color": null
      }
     },
     "f7a318a3868a46c4884dd042720071a1": {
      "model_module": "@jupyter-widgets/controls",
      "model_module_version": "2.0.0",
      "model_name": "HTMLModel",
      "state": {
       "layout": "IPY_MODEL_5b33df4eca4b4d3aa18ff2013d118c47",
       "style": "IPY_MODEL_33f40760a703411ea7c26d5813fcfbec",
       "value": " 1904/1904 [15:36&lt;00:00,  3.09it/s]"
      }
     },
     "f81e6591c0c345b6b1239b4da2acec25": {
      "model_module": "@jupyter-widgets/controls",
      "model_module_version": "2.0.0",
      "model_name": "HTMLStyleModel",
      "state": {
       "description_width": "",
       "font_size": null,
       "text_color": null
      }
     },
     "f826aeba51c848e7a9a5c9a42dc955af": {
      "model_module": "@jupyter-widgets/base",
      "model_module_version": "2.0.0",
      "model_name": "LayoutModel",
      "state": {}
     },
     "f8458bf7c6a74264831b5e8e45fe973b": {
      "model_module": "@jupyter-widgets/controls",
      "model_module_version": "2.0.0",
      "model_name": "FloatProgressModel",
      "state": {
       "bar_style": "success",
       "layout": "IPY_MODEL_205da4c215cb43349ab6f6c25c4619d3",
       "max": 5073,
       "style": "IPY_MODEL_ad9a0fc7f1b94b9584b4eb31d06e9679",
       "value": 5073
      }
     },
     "f948befd6b8c439d9b6e1fdec616c436": {
      "model_module": "@jupyter-widgets/controls",
      "model_module_version": "2.0.0",
      "model_name": "HTMLStyleModel",
      "state": {
       "description_width": "",
       "font_size": null,
       "text_color": null
      }
     },
     "f9645b409b1e461481a8611eace6a94a": {
      "model_module": "@jupyter-widgets/controls",
      "model_module_version": "2.0.0",
      "model_name": "FloatProgressModel",
      "state": {
       "bar_style": "success",
       "layout": "IPY_MODEL_ae076e0f4dec431fbbdca28cbc888829",
       "max": 5056,
       "style": "IPY_MODEL_10a8372874164f54b631ca287f222171",
       "value": 5056
      }
     },
     "fa65be1b3866455db321bc2318f594de": {
      "model_module": "@jupyter-widgets/base",
      "model_module_version": "2.0.0",
      "model_name": "LayoutModel",
      "state": {}
     },
     "fafc0185efb148ad82e05d5d3979e990": {
      "model_module": "@jupyter-widgets/controls",
      "model_module_version": "2.0.0",
      "model_name": "HTMLModel",
      "state": {
       "layout": "IPY_MODEL_e752a23dfcc445d3a29a3f3b6019adcf",
       "style": "IPY_MODEL_460bf95c0fa2415f91bc50c4f3e18931",
       "value": "Movies from 2021: 100%"
      }
     },
     "fc27d281a40848ac9bb24b0765b5478b": {
      "model_module": "@jupyter-widgets/controls",
      "model_module_version": "2.0.0",
      "model_name": "FloatProgressModel",
      "state": {
       "bar_style": "success",
       "layout": "IPY_MODEL_ffb34c396aa3469cb225b5d059a83225",
       "max": 11,
       "style": "IPY_MODEL_600227d3b1c148d580d5f90dda3ce8c1",
       "value": 11
      }
     },
     "fc6bd359321b42e783eaa702489b63a5": {
      "model_module": "@jupyter-widgets/controls",
      "model_module_version": "2.0.0",
      "model_name": "FloatProgressModel",
      "state": {
       "bar_style": "success",
       "layout": "IPY_MODEL_85bebd9b653f4f9ca5d7f04b94cead7f",
       "max": 5073,
       "style": "IPY_MODEL_8ea098590f78445d84cf3f8dda29d03d",
       "value": 5073
      }
     },
     "fd9784c4f9c1479a974a80caf01becd2": {
      "model_module": "@jupyter-widgets/base",
      "model_module_version": "2.0.0",
      "model_name": "LayoutModel",
      "state": {}
     },
     "fe4e29d1d03f4edea3dca0ba022e9031": {
      "model_module": "@jupyter-widgets/controls",
      "model_module_version": "2.0.0",
      "model_name": "HTMLStyleModel",
      "state": {
       "description_width": "",
       "font_size": null,
       "text_color": null
      }
     },
     "fe921b13c68147e79d89ce59c9c841cd": {
      "model_module": "@jupyter-widgets/base",
      "model_module_version": "2.0.0",
      "model_name": "LayoutModel",
      "state": {}
     },
     "ffb34c396aa3469cb225b5d059a83225": {
      "model_module": "@jupyter-widgets/base",
      "model_module_version": "2.0.0",
      "model_name": "LayoutModel",
      "state": {}
     },
     "ffb65df06f034b118cbea2741d03bc91": {
      "model_module": "@jupyter-widgets/controls",
      "model_module_version": "2.0.0",
      "model_name": "HTMLStyleModel",
      "state": {
       "description_width": "",
       "font_size": null,
       "text_color": null
      }
     },
     "ffe63c56cef64d14b1ac4c0b3310b6cf": {
      "model_module": "@jupyter-widgets/base",
      "model_module_version": "2.0.0",
      "model_name": "LayoutModel",
      "state": {}
     }
    },
    "version_major": 2,
    "version_minor": 0
   }
  }
 },
 "nbformat": 4,
 "nbformat_minor": 5
}
