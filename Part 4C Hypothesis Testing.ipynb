{
 "cells": [
  {
   "cell_type": "markdown",
   "id": "d4758010-b178-4d38-85f4-843afeae91af",
   "metadata": {},
   "source": [
    "# Part 4C Hypothesis Testing\n",
    "- Loveida Lucero"
   ]
  },
  {
   "cell_type": "markdown",
   "id": "8c3efd60-adb2-47cf-b42e-5135dd4cc070",
   "metadata": {},
   "source": [
    "# Does the MPAA rating of a movie (G/PG/PG-13/R) affect how much revenue the movie generates?"
   ]
  },
  {
   "cell_type": "code",
   "execution_count": null,
   "id": "ac3bbc1c-51e1-4889-a05b-a5e15da64bfd",
   "metadata": {},
   "outputs": [],
   "source": []
  },
  {
   "cell_type": "markdown",
   "id": "d696232d-17d1-4850-af19-4155577d1a47",
   "metadata": {},
   "source": [
    "# Do some movie genres earn more revenue than others?"
   ]
  },
  {
   "cell_type": "code",
   "execution_count": null,
   "id": "ee806664-11b0-4c2c-9ab3-a1d78c7489a4",
   "metadata": {},
   "outputs": [],
   "source": []
  },
  {
   "cell_type": "markdown",
   "id": "b7e9ca99-c8b7-4634-afd7-343e6491ebca",
   "metadata": {},
   "source": [
    "# Are some genres higher rated than others?"
   ]
  },
  {
   "cell_type": "code",
   "execution_count": null,
   "id": "00ebff4c-571e-4735-8909-4c6cc29cbdfc",
   "metadata": {},
   "outputs": [],
   "source": []
  }
 ],
 "metadata": {
  "kernelspec": {
   "display_name": "Python (dojo-env)",
   "language": "python",
   "name": "dojo-env"
  },
  "language_info": {
   "codemirror_mode": {
    "name": "ipython",
    "version": 3
   },
   "file_extension": ".py",
   "mimetype": "text/x-python",
   "name": "python",
   "nbconvert_exporter": "python",
   "pygments_lexer": "ipython3",
   "version": "3.10.10"
  },
  "widgets": {
   "application/vnd.jupyter.widget-state+json": {
    "state": {},
    "version_major": 2,
    "version_minor": 0
   }
  }
 },
 "nbformat": 4,
 "nbformat_minor": 5
}
